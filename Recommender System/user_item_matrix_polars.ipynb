{
 "cells": [
  {
   "cell_type": "code",
   "execution_count": 1,
   "metadata": {},
   "outputs": [],
   "source": [
    "import polars as pl \n",
    "import numpy as np \n",
    "import warnings\n",
    "warnings.filterwarnings('ignore')\n",
    "from sklearn.metrics.pairwise import cosine_similarity"
   ]
  },
  {
   "cell_type": "code",
   "execution_count": 2,
   "metadata": {},
   "outputs": [
    {
     "data": {
      "text/html": [
       "<div><style>\n",
       ".dataframe > thead > tr,\n",
       ".dataframe > tbody > tr {\n",
       "  text-align: right;\n",
       "  white-space: pre-wrap;\n",
       "}\n",
       "</style>\n",
       "<small>shape: (5, 5)</small><table border=\"1\" class=\"dataframe\"><thead><tr><th>user_id</th><th>item_id</th><th>sentiment_analysis_2</th><th>recommend</th><th>__index_level_0__</th></tr><tr><td>str</td><td>i32</td><td>i32</td><td>i32</td><td>i64</td></tr></thead><tbody><tr><td>&quot;76561197970982…</td><td>1250</td><td>2</td><td>1</td><td>0</td></tr><tr><td>&quot;76561197970982…</td><td>22200</td><td>2</td><td>1</td><td>1</td></tr><tr><td>&quot;76561197970982…</td><td>43110</td><td>2</td><td>1</td><td>2</td></tr><tr><td>&quot;js41637&quot;</td><td>251610</td><td>2</td><td>1</td><td>3</td></tr><tr><td>&quot;js41637&quot;</td><td>227300</td><td>2</td><td>1</td><td>4</td></tr></tbody></table></div>"
      ],
      "text/plain": [
       "shape: (5, 5)\n",
       "┌───────────────────┬─────────┬──────────────────────┬───────────┬───────────────────┐\n",
       "│ user_id           ┆ item_id ┆ sentiment_analysis_2 ┆ recommend ┆ __index_level_0__ │\n",
       "│ ---               ┆ ---     ┆ ---                  ┆ ---       ┆ ---               │\n",
       "│ str               ┆ i32     ┆ i32                  ┆ i32       ┆ i64               │\n",
       "╞═══════════════════╪═════════╪══════════════════════╪═══════════╪═══════════════════╡\n",
       "│ 76561197970982479 ┆ 1250    ┆ 2                    ┆ 1         ┆ 0                 │\n",
       "│ 76561197970982479 ┆ 22200   ┆ 2                    ┆ 1         ┆ 1                 │\n",
       "│ 76561197970982479 ┆ 43110   ┆ 2                    ┆ 1         ┆ 2                 │\n",
       "│ js41637           ┆ 251610  ┆ 2                    ┆ 1         ┆ 3                 │\n",
       "│ js41637           ┆ 227300  ┆ 2                    ┆ 1         ┆ 4                 │\n",
       "└───────────────────┴─────────┴──────────────────────┴───────────┴───────────────────┘"
      ]
     },
     "execution_count": 2,
     "metadata": {},
     "output_type": "execute_result"
    }
   ],
   "source": [
    "df = pl.read_parquet('../sentiment_analysis_2.parquet')\n",
    "df.head()"
   ]
  },
  {
   "cell_type": "code",
   "execution_count": 3,
   "metadata": {},
   "outputs": [
    {
     "data": {
      "text/html": [
       "<div><style>\n",
       ".dataframe > thead > tr,\n",
       ".dataframe > tbody > tr {\n",
       "  text-align: right;\n",
       "  white-space: pre-wrap;\n",
       "}\n",
       "</style>\n",
       "<small>shape: (5, 3)</small><table border=\"1\" class=\"dataframe\"><thead><tr><th>user_id</th><th>item_id</th><th>rating</th></tr><tr><td>str</td><td>i32</td><td>i32</td></tr></thead><tbody><tr><td>&quot;76561197970982…</td><td>1250</td><td>2</td></tr><tr><td>&quot;76561197970982…</td><td>22200</td><td>2</td></tr><tr><td>&quot;76561197970982…</td><td>43110</td><td>2</td></tr><tr><td>&quot;js41637&quot;</td><td>251610</td><td>2</td></tr><tr><td>&quot;js41637&quot;</td><td>227300</td><td>2</td></tr></tbody></table></div>"
      ],
      "text/plain": [
       "shape: (5, 3)\n",
       "┌───────────────────┬─────────┬────────┐\n",
       "│ user_id           ┆ item_id ┆ rating │\n",
       "│ ---               ┆ ---     ┆ ---    │\n",
       "│ str               ┆ i32     ┆ i32    │\n",
       "╞═══════════════════╪═════════╪════════╡\n",
       "│ 76561197970982479 ┆ 1250    ┆ 2      │\n",
       "│ 76561197970982479 ┆ 22200   ┆ 2      │\n",
       "│ 76561197970982479 ┆ 43110   ┆ 2      │\n",
       "│ js41637           ┆ 251610  ┆ 2      │\n",
       "│ js41637           ┆ 227300  ┆ 2      │\n",
       "└───────────────────┴─────────┴────────┘"
      ]
     },
     "execution_count": 3,
     "metadata": {},
     "output_type": "execute_result"
    }
   ],
   "source": [
    "df= df.drop(columns=['recommend', '__index_level_0__' ])\n",
    "df = df.rename({'sentiment_analysis_2': 'rating'})\n",
    "df.head()"
   ]
  },
  {
   "cell_type": "code",
   "execution_count": 4,
   "metadata": {},
   "outputs": [
    {
     "data": {
      "text/html": [
       "<div><style>\n",
       ".dataframe > thead > tr,\n",
       ".dataframe > tbody > tr {\n",
       "  text-align: right;\n",
       "  white-space: pre-wrap;\n",
       "}\n",
       "</style>\n",
       "<small>shape: (5, 3_683)</small><table border=\"1\" class=\"dataframe\"><thead><tr><th>user_id</th><th>1250</th><th>22200</th><th>43110</th><th>251610</th><th>227300</th><th>239030</th><th>248820</th><th>370360</th><th>237930</th><th>263360</th><th>107200</th><th>224500</th><th>250320</th><th>20920</th><th>204100</th><th>224600</th><th>207610</th><th>108710</th><th>211420</th><th>211820</th><th>730</th><th>204300</th><th>249130</th><th>550</th><th>65800</th><th>220</th><th>72850</th><th>440</th><th>252950</th><th>304930</th><th>4000</th><th>42910</th><th>232090</th><th>570</th><th>218620</th><th>224260</th><th>&hellip;</th><th>210170</th><th>319150</th><th>225833</th><th>378660</th><th>242590</th><th>339910</th><th>61730</th><th>259410</th><th>318520</th><th>319970</th><th>378580</th><th>420930</th><th>349740</th><th>254130</th><th>274350</th><th>381020</th><th>358260</th><th>358340</th><th>358290</th><th>256500</th><th>431840</th><th>385890</th><th>203250</th><th>348670</th><th>385630</th><th>385980</th><th>369000</th><th>294230</th><th>367780</th><th>305920</th><th>306040</th><th>414390</th><th>307130</th><th>209120</th><th>220090</th><th>262850</th><th>431510</th></tr><tr><td>str</td><td>i32</td><td>i32</td><td>i32</td><td>i32</td><td>i32</td><td>i32</td><td>i32</td><td>i32</td><td>i32</td><td>i32</td><td>i32</td><td>i32</td><td>i32</td><td>i32</td><td>i32</td><td>i32</td><td>i32</td><td>i32</td><td>i32</td><td>i32</td><td>i32</td><td>i32</td><td>i32</td><td>i32</td><td>i32</td><td>i32</td><td>i32</td><td>i32</td><td>i32</td><td>i32</td><td>i32</td><td>i32</td><td>i32</td><td>i32</td><td>i32</td><td>i32</td><td>&hellip;</td><td>i32</td><td>i32</td><td>i32</td><td>i32</td><td>i32</td><td>i32</td><td>i32</td><td>i32</td><td>i32</td><td>i32</td><td>i32</td><td>i32</td><td>i32</td><td>i32</td><td>i32</td><td>i32</td><td>i32</td><td>i32</td><td>i32</td><td>i32</td><td>i32</td><td>i32</td><td>i32</td><td>i32</td><td>i32</td><td>i32</td><td>i32</td><td>i32</td><td>i32</td><td>i32</td><td>i32</td><td>i32</td><td>i32</td><td>i32</td><td>i32</td><td>i32</td><td>i32</td></tr></thead><tbody><tr><td>&quot;76561197970982…</td><td>2</td><td>2</td><td>2</td><td>null</td><td>null</td><td>null</td><td>null</td><td>null</td><td>null</td><td>null</td><td>null</td><td>null</td><td>null</td><td>null</td><td>null</td><td>null</td><td>null</td><td>null</td><td>null</td><td>null</td><td>null</td><td>null</td><td>null</td><td>null</td><td>null</td><td>null</td><td>null</td><td>null</td><td>null</td><td>null</td><td>null</td><td>null</td><td>null</td><td>null</td><td>null</td><td>null</td><td>&hellip;</td><td>null</td><td>null</td><td>null</td><td>null</td><td>null</td><td>null</td><td>null</td><td>null</td><td>null</td><td>null</td><td>null</td><td>null</td><td>null</td><td>null</td><td>null</td><td>null</td><td>null</td><td>null</td><td>null</td><td>null</td><td>null</td><td>null</td><td>null</td><td>null</td><td>null</td><td>null</td><td>null</td><td>null</td><td>null</td><td>null</td><td>null</td><td>null</td><td>null</td><td>null</td><td>null</td><td>null</td><td>null</td></tr><tr><td>&quot;js41637&quot;</td><td>null</td><td>null</td><td>null</td><td>2</td><td>2</td><td>2</td><td>null</td><td>null</td><td>null</td><td>null</td><td>null</td><td>null</td><td>null</td><td>null</td><td>null</td><td>null</td><td>null</td><td>null</td><td>null</td><td>null</td><td>null</td><td>null</td><td>null</td><td>null</td><td>null</td><td>null</td><td>null</td><td>null</td><td>null</td><td>null</td><td>null</td><td>null</td><td>null</td><td>null</td><td>null</td><td>null</td><td>&hellip;</td><td>null</td><td>null</td><td>null</td><td>null</td><td>null</td><td>null</td><td>null</td><td>null</td><td>null</td><td>null</td><td>null</td><td>null</td><td>null</td><td>null</td><td>null</td><td>null</td><td>null</td><td>null</td><td>null</td><td>null</td><td>null</td><td>null</td><td>null</td><td>null</td><td>null</td><td>null</td><td>null</td><td>null</td><td>null</td><td>null</td><td>null</td><td>null</td><td>null</td><td>null</td><td>null</td><td>null</td><td>null</td></tr><tr><td>&quot;evcentric&quot;</td><td>null</td><td>null</td><td>null</td><td>null</td><td>null</td><td>null</td><td>2</td><td>2</td><td>2</td><td>0</td><td>2</td><td>2</td><td>null</td><td>null</td><td>null</td><td>null</td><td>null</td><td>null</td><td>null</td><td>null</td><td>null</td><td>null</td><td>null</td><td>null</td><td>null</td><td>null</td><td>null</td><td>null</td><td>null</td><td>null</td><td>null</td><td>null</td><td>null</td><td>null</td><td>null</td><td>null</td><td>&hellip;</td><td>null</td><td>null</td><td>null</td><td>null</td><td>null</td><td>null</td><td>null</td><td>null</td><td>null</td><td>null</td><td>null</td><td>null</td><td>null</td><td>null</td><td>null</td><td>null</td><td>null</td><td>null</td><td>null</td><td>null</td><td>null</td><td>null</td><td>null</td><td>null</td><td>null</td><td>null</td><td>null</td><td>null</td><td>null</td><td>null</td><td>null</td><td>null</td><td>null</td><td>null</td><td>null</td><td>null</td><td>null</td></tr><tr><td>&quot;doctr&quot;</td><td>null</td><td>null</td><td>null</td><td>null</td><td>null</td><td>null</td><td>null</td><td>null</td><td>null</td><td>null</td><td>null</td><td>null</td><td>2</td><td>2</td><td>2</td><td>2</td><td>0</td><td>2</td><td>null</td><td>null</td><td>null</td><td>null</td><td>null</td><td>null</td><td>null</td><td>null</td><td>null</td><td>null</td><td>null</td><td>null</td><td>null</td><td>null</td><td>null</td><td>null</td><td>null</td><td>null</td><td>&hellip;</td><td>null</td><td>null</td><td>null</td><td>null</td><td>null</td><td>null</td><td>null</td><td>null</td><td>null</td><td>null</td><td>null</td><td>null</td><td>null</td><td>null</td><td>null</td><td>null</td><td>null</td><td>null</td><td>null</td><td>null</td><td>null</td><td>null</td><td>null</td><td>null</td><td>null</td><td>null</td><td>null</td><td>null</td><td>null</td><td>null</td><td>null</td><td>null</td><td>null</td><td>null</td><td>null</td><td>null</td><td>null</td></tr><tr><td>&quot;maplemage&quot;</td><td>null</td><td>null</td><td>null</td><td>null</td><td>null</td><td>null</td><td>null</td><td>null</td><td>null</td><td>null</td><td>null</td><td>null</td><td>null</td><td>null</td><td>null</td><td>null</td><td>null</td><td>null</td><td>1</td><td>2</td><td>2</td><td>2</td><td>null</td><td>null</td><td>null</td><td>null</td><td>null</td><td>null</td><td>null</td><td>null</td><td>null</td><td>null</td><td>null</td><td>null</td><td>null</td><td>null</td><td>&hellip;</td><td>null</td><td>null</td><td>null</td><td>null</td><td>null</td><td>null</td><td>null</td><td>null</td><td>null</td><td>null</td><td>null</td><td>null</td><td>null</td><td>null</td><td>null</td><td>null</td><td>null</td><td>null</td><td>null</td><td>null</td><td>null</td><td>null</td><td>null</td><td>null</td><td>null</td><td>null</td><td>null</td><td>null</td><td>null</td><td>null</td><td>null</td><td>null</td><td>null</td><td>null</td><td>null</td><td>null</td><td>null</td></tr></tbody></table></div>"
      ],
      "text/plain": [
       "shape: (5, 3_683)\n",
       "┌───────────────────┬──────┬───────┬───────┬───┬────────┬────────┬────────┬────────┐\n",
       "│ user_id           ┆ 1250 ┆ 22200 ┆ 43110 ┆ … ┆ 209120 ┆ 220090 ┆ 262850 ┆ 431510 │\n",
       "│ ---               ┆ ---  ┆ ---   ┆ ---   ┆   ┆ ---    ┆ ---    ┆ ---    ┆ ---    │\n",
       "│ str               ┆ i32  ┆ i32   ┆ i32   ┆   ┆ i32    ┆ i32    ┆ i32    ┆ i32    │\n",
       "╞═══════════════════╪══════╪═══════╪═══════╪═══╪════════╪════════╪════════╪════════╡\n",
       "│ 76561197970982479 ┆ 2    ┆ 2     ┆ 2     ┆ … ┆ null   ┆ null   ┆ null   ┆ null   │\n",
       "│ js41637           ┆ null ┆ null  ┆ null  ┆ … ┆ null   ┆ null   ┆ null   ┆ null   │\n",
       "│ evcentric         ┆ null ┆ null  ┆ null  ┆ … ┆ null   ┆ null   ┆ null   ┆ null   │\n",
       "│ doctr             ┆ null ┆ null  ┆ null  ┆ … ┆ null   ┆ null   ┆ null   ┆ null   │\n",
       "│ maplemage         ┆ null ┆ null  ┆ null  ┆ … ┆ null   ┆ null   ┆ null   ┆ null   │\n",
       "└───────────────────┴──────┴───────┴───────┴───┴────────┴────────┴────────┴────────┘"
      ]
     },
     "execution_count": 4,
     "metadata": {},
     "output_type": "execute_result"
    }
   ],
   "source": [
    "df_pivot = df.pivot(index='user_id', columns='item_id', values='rating')\n",
    "df_pivot.head()"
   ]
  },
  {
   "cell_type": "code",
   "execution_count": 5,
   "metadata": {},
   "outputs": [
    {
     "data": {
      "text/html": [
       "<div><style>\n",
       ".dataframe > thead > tr,\n",
       ".dataframe > tbody > tr {\n",
       "  text-align: right;\n",
       "  white-space: pre-wrap;\n",
       "}\n",
       "</style>\n",
       "<small>shape: (5, 6)</small><table border=\"1\" class=\"dataframe\"><thead><tr><th>user_id</th><th>playtime_forever</th><th>playtime_2weeks</th><th>item_id</th><th>item_name</th><th>__index_level_0__</th></tr><tr><td>str</td><td>i64</td><td>i64</td><td>i32</td><td>str</td><td>i64</td></tr></thead><tbody><tr><td>&quot;76561197970982…</td><td>6</td><td>0</td><td>10</td><td>&quot;Counter-Strike…</td><td>0</td></tr><tr><td>&quot;76561197970982…</td><td>0</td><td>0</td><td>20</td><td>&quot;Team Fortress …</td><td>1</td></tr><tr><td>&quot;76561197970982…</td><td>7</td><td>0</td><td>30</td><td>&quot;Day of Defeat&quot;</td><td>2</td></tr><tr><td>&quot;76561197970982…</td><td>0</td><td>0</td><td>40</td><td>&quot;Deathmatch Cla…</td><td>3</td></tr><tr><td>&quot;76561197970982…</td><td>0</td><td>0</td><td>50</td><td>&quot;Half-Life: Opp…</td><td>4</td></tr></tbody></table></div>"
      ],
      "text/plain": [
       "shape: (5, 6)\n",
       "┌─────────────────┬─────────────────┬─────────────────┬─────────┬─────────────────┬────────────────┐\n",
       "│ user_id         ┆ playtime_foreve ┆ playtime_2weeks ┆ item_id ┆ item_name       ┆ __index_level_ │\n",
       "│ ---             ┆ r               ┆ ---             ┆ ---     ┆ ---             ┆ 0__            │\n",
       "│ str             ┆ ---             ┆ i64             ┆ i32     ┆ str             ┆ ---            │\n",
       "│                 ┆ i64             ┆                 ┆         ┆                 ┆ i64            │\n",
       "╞═════════════════╪═════════════════╪═════════════════╪═════════╪═════════════════╪════════════════╡\n",
       "│ 765611979709824 ┆ 6               ┆ 0               ┆ 10      ┆ Counter-Strike  ┆ 0              │\n",
       "│ 79              ┆                 ┆                 ┆         ┆                 ┆                │\n",
       "│ 765611979709824 ┆ 0               ┆ 0               ┆ 20      ┆ Team Fortress   ┆ 1              │\n",
       "│ 79              ┆                 ┆                 ┆         ┆ Classic         ┆                │\n",
       "│ 765611979709824 ┆ 7               ┆ 0               ┆ 30      ┆ Day of Defeat   ┆ 2              │\n",
       "│ 79              ┆                 ┆                 ┆         ┆                 ┆                │\n",
       "│ 765611979709824 ┆ 0               ┆ 0               ┆ 40      ┆ Deathmatch      ┆ 3              │\n",
       "│ 79              ┆                 ┆                 ┆         ┆ Classic         ┆                │\n",
       "│ 765611979709824 ┆ 0               ┆ 0               ┆ 50      ┆ Half-Life:      ┆ 4              │\n",
       "│ 79              ┆                 ┆                 ┆         ┆ Opposing Force  ┆                │\n",
       "└─────────────────┴─────────────────┴─────────────────┴─────────┴─────────────────┴────────────────┘"
      ]
     },
     "execution_count": 5,
     "metadata": {},
     "output_type": "execute_result"
    }
   ],
   "source": [
    "users = pl.read_parquet('../CleanData/users_items.parquet')\n",
    "users.head()"
   ]
  },
  {
   "cell_type": "code",
   "execution_count": 6,
   "metadata": {},
   "outputs": [],
   "source": [
    "total_users = users['user_id']"
   ]
  },
  {
   "cell_type": "code",
   "execution_count": 7,
   "metadata": {},
   "outputs": [],
   "source": [
    "users_rev = df_pivot['user_id']"
   ]
  },
  {
   "cell_type": "code",
   "execution_count": 8,
   "metadata": {},
   "outputs": [
    {
     "data": {
      "text/plain": [
       "25458"
      ]
     },
     "execution_count": 8,
     "metadata": {},
     "output_type": "execute_result"
    }
   ],
   "source": [
    "len(users_rev)"
   ]
  },
  {
   "cell_type": "code",
   "execution_count": 9,
   "metadata": {},
   "outputs": [
    {
     "data": {
      "text/html": [
       "<div><style>\n",
       ".dataframe > thead > tr,\n",
       ".dataframe > tbody > tr {\n",
       "  text-align: right;\n",
       "  white-space: pre-wrap;\n",
       "}\n",
       "</style>\n",
       "<small>shape: (10,)</small><table border=\"1\" class=\"dataframe\"><thead><tr><th>user_id</th></tr><tr><td>str</td></tr></thead><tbody><tr><td>&quot;76561197970982…</td></tr><tr><td>&quot;76561197970982…</td></tr><tr><td>&quot;76561197970982…</td></tr><tr><td>&quot;76561197970982…</td></tr><tr><td>&quot;76561197970982…</td></tr><tr><td>&quot;76561197970982…</td></tr><tr><td>&quot;76561197970982…</td></tr><tr><td>&quot;76561197970982…</td></tr><tr><td>&quot;76561197970982…</td></tr><tr><td>&quot;76561197970982…</td></tr></tbody></table></div>"
      ],
      "text/plain": [
       "shape: (10,)\n",
       "Series: 'user_id' [str]\n",
       "[\n",
       "\t\"76561197970982…\n",
       "\t\"76561197970982…\n",
       "\t\"76561197970982…\n",
       "\t\"76561197970982…\n",
       "\t\"76561197970982…\n",
       "\t\"76561197970982…\n",
       "\t\"76561197970982…\n",
       "\t\"76561197970982…\n",
       "\t\"76561197970982…\n",
       "\t\"76561197970982…\n",
       "]"
      ]
     },
     "execution_count": 9,
     "metadata": {},
     "output_type": "execute_result"
    }
   ],
   "source": [
    "users_append = pl.concat([total_users, users_rev], how= 'vertical')\n",
    "users_append.head()"
   ]
  },
  {
   "cell_type": "code",
   "execution_count": 10,
   "metadata": {},
   "outputs": [
    {
     "data": {
      "text/plain": [
       "5119563"
      ]
     },
     "execution_count": 10,
     "metadata": {},
     "output_type": "execute_result"
    }
   ],
   "source": [
    "len(users_append)"
   ]
  },
  {
   "cell_type": "code",
   "execution_count": 11,
   "metadata": {},
   "outputs": [],
   "source": [
    "users_append = users_append.unique()"
   ]
  },
  {
   "cell_type": "code",
   "execution_count": 12,
   "metadata": {},
   "outputs": [
    {
     "data": {
      "text/plain": [
       "73757"
      ]
     },
     "execution_count": 12,
     "metadata": {},
     "output_type": "execute_result"
    }
   ],
   "source": [
    "len(users_append)"
   ]
  },
  {
   "cell_type": "code",
   "execution_count": 13,
   "metadata": {},
   "outputs": [],
   "source": [
    "reviewed_games = list(df_pivot.columns)\n",
    "reviewed_games.remove('user_id')"
   ]
  },
  {
   "cell_type": "code",
   "execution_count": 14,
   "metadata": {},
   "outputs": [],
   "source": [
    "df_append = pl.DataFrame({'user_id': users_append})"
   ]
  },
  {
   "cell_type": "code",
   "execution_count": 15,
   "metadata": {},
   "outputs": [],
   "source": [
    "for game in reviewed_games:\n",
    "    df_append = df_append.with_columns(['user_id', pl.lit(None).alias(game)])"
   ]
  },
  {
   "cell_type": "code",
   "execution_count": 16,
   "metadata": {},
   "outputs": [
    {
     "data": {
      "text/html": [
       "<div><style>\n",
       ".dataframe > thead > tr,\n",
       ".dataframe > tbody > tr {\n",
       "  text-align: right;\n",
       "  white-space: pre-wrap;\n",
       "}\n",
       "</style>\n",
       "<small>shape: (5, 3_683)</small><table border=\"1\" class=\"dataframe\"><thead><tr><th>user_id</th><th>1250</th><th>22200</th><th>43110</th><th>251610</th><th>227300</th><th>239030</th><th>248820</th><th>370360</th><th>237930</th><th>263360</th><th>107200</th><th>224500</th><th>250320</th><th>20920</th><th>204100</th><th>224600</th><th>207610</th><th>108710</th><th>211420</th><th>211820</th><th>730</th><th>204300</th><th>249130</th><th>550</th><th>65800</th><th>220</th><th>72850</th><th>440</th><th>252950</th><th>304930</th><th>4000</th><th>42910</th><th>232090</th><th>570</th><th>218620</th><th>224260</th><th>&hellip;</th><th>210170</th><th>319150</th><th>225833</th><th>378660</th><th>242590</th><th>339910</th><th>61730</th><th>259410</th><th>318520</th><th>319970</th><th>378580</th><th>420930</th><th>349740</th><th>254130</th><th>274350</th><th>381020</th><th>358260</th><th>358340</th><th>358290</th><th>256500</th><th>431840</th><th>385890</th><th>203250</th><th>348670</th><th>385630</th><th>385980</th><th>369000</th><th>294230</th><th>367780</th><th>305920</th><th>306040</th><th>414390</th><th>307130</th><th>209120</th><th>220090</th><th>262850</th><th>431510</th></tr><tr><td>str</td><td>null</td><td>null</td><td>null</td><td>null</td><td>null</td><td>null</td><td>null</td><td>null</td><td>null</td><td>null</td><td>null</td><td>null</td><td>null</td><td>null</td><td>null</td><td>null</td><td>null</td><td>null</td><td>null</td><td>null</td><td>null</td><td>null</td><td>null</td><td>null</td><td>null</td><td>null</td><td>null</td><td>null</td><td>null</td><td>null</td><td>null</td><td>null</td><td>null</td><td>null</td><td>null</td><td>null</td><td>&hellip;</td><td>null</td><td>null</td><td>null</td><td>null</td><td>null</td><td>null</td><td>null</td><td>null</td><td>null</td><td>null</td><td>null</td><td>null</td><td>null</td><td>null</td><td>null</td><td>null</td><td>null</td><td>null</td><td>null</td><td>null</td><td>null</td><td>null</td><td>null</td><td>null</td><td>null</td><td>null</td><td>null</td><td>null</td><td>null</td><td>null</td><td>null</td><td>null</td><td>null</td><td>null</td><td>null</td><td>null</td><td>null</td></tr></thead><tbody><tr><td>&quot;76561198086466…</td><td>null</td><td>null</td><td>null</td><td>null</td><td>null</td><td>null</td><td>null</td><td>null</td><td>null</td><td>null</td><td>null</td><td>null</td><td>null</td><td>null</td><td>null</td><td>null</td><td>null</td><td>null</td><td>null</td><td>null</td><td>null</td><td>null</td><td>null</td><td>null</td><td>null</td><td>null</td><td>null</td><td>null</td><td>null</td><td>null</td><td>null</td><td>null</td><td>null</td><td>null</td><td>null</td><td>null</td><td>&hellip;</td><td>null</td><td>null</td><td>null</td><td>null</td><td>null</td><td>null</td><td>null</td><td>null</td><td>null</td><td>null</td><td>null</td><td>null</td><td>null</td><td>null</td><td>null</td><td>null</td><td>null</td><td>null</td><td>null</td><td>null</td><td>null</td><td>null</td><td>null</td><td>null</td><td>null</td><td>null</td><td>null</td><td>null</td><td>null</td><td>null</td><td>null</td><td>null</td><td>null</td><td>null</td><td>null</td><td>null</td><td>null</td></tr><tr><td>&quot;pooldeadlol&quot;</td><td>null</td><td>null</td><td>null</td><td>null</td><td>null</td><td>null</td><td>null</td><td>null</td><td>null</td><td>null</td><td>null</td><td>null</td><td>null</td><td>null</td><td>null</td><td>null</td><td>null</td><td>null</td><td>null</td><td>null</td><td>null</td><td>null</td><td>null</td><td>null</td><td>null</td><td>null</td><td>null</td><td>null</td><td>null</td><td>null</td><td>null</td><td>null</td><td>null</td><td>null</td><td>null</td><td>null</td><td>&hellip;</td><td>null</td><td>null</td><td>null</td><td>null</td><td>null</td><td>null</td><td>null</td><td>null</td><td>null</td><td>null</td><td>null</td><td>null</td><td>null</td><td>null</td><td>null</td><td>null</td><td>null</td><td>null</td><td>null</td><td>null</td><td>null</td><td>null</td><td>null</td><td>null</td><td>null</td><td>null</td><td>null</td><td>null</td><td>null</td><td>null</td><td>null</td><td>null</td><td>null</td><td>null</td><td>null</td><td>null</td><td>null</td></tr><tr><td>&quot;housty8&quot;</td><td>null</td><td>null</td><td>null</td><td>null</td><td>null</td><td>null</td><td>null</td><td>null</td><td>null</td><td>null</td><td>null</td><td>null</td><td>null</td><td>null</td><td>null</td><td>null</td><td>null</td><td>null</td><td>null</td><td>null</td><td>null</td><td>null</td><td>null</td><td>null</td><td>null</td><td>null</td><td>null</td><td>null</td><td>null</td><td>null</td><td>null</td><td>null</td><td>null</td><td>null</td><td>null</td><td>null</td><td>&hellip;</td><td>null</td><td>null</td><td>null</td><td>null</td><td>null</td><td>null</td><td>null</td><td>null</td><td>null</td><td>null</td><td>null</td><td>null</td><td>null</td><td>null</td><td>null</td><td>null</td><td>null</td><td>null</td><td>null</td><td>null</td><td>null</td><td>null</td><td>null</td><td>null</td><td>null</td><td>null</td><td>null</td><td>null</td><td>null</td><td>null</td><td>null</td><td>null</td><td>null</td><td>null</td><td>null</td><td>null</td><td>null</td></tr><tr><td>&quot;76561198087476…</td><td>null</td><td>null</td><td>null</td><td>null</td><td>null</td><td>null</td><td>null</td><td>null</td><td>null</td><td>null</td><td>null</td><td>null</td><td>null</td><td>null</td><td>null</td><td>null</td><td>null</td><td>null</td><td>null</td><td>null</td><td>null</td><td>null</td><td>null</td><td>null</td><td>null</td><td>null</td><td>null</td><td>null</td><td>null</td><td>null</td><td>null</td><td>null</td><td>null</td><td>null</td><td>null</td><td>null</td><td>&hellip;</td><td>null</td><td>null</td><td>null</td><td>null</td><td>null</td><td>null</td><td>null</td><td>null</td><td>null</td><td>null</td><td>null</td><td>null</td><td>null</td><td>null</td><td>null</td><td>null</td><td>null</td><td>null</td><td>null</td><td>null</td><td>null</td><td>null</td><td>null</td><td>null</td><td>null</td><td>null</td><td>null</td><td>null</td><td>null</td><td>null</td><td>null</td><td>null</td><td>null</td><td>null</td><td>null</td><td>null</td><td>null</td></tr><tr><td>&quot;OmGwTfLoLrOfLm…</td><td>null</td><td>null</td><td>null</td><td>null</td><td>null</td><td>null</td><td>null</td><td>null</td><td>null</td><td>null</td><td>null</td><td>null</td><td>null</td><td>null</td><td>null</td><td>null</td><td>null</td><td>null</td><td>null</td><td>null</td><td>null</td><td>null</td><td>null</td><td>null</td><td>null</td><td>null</td><td>null</td><td>null</td><td>null</td><td>null</td><td>null</td><td>null</td><td>null</td><td>null</td><td>null</td><td>null</td><td>&hellip;</td><td>null</td><td>null</td><td>null</td><td>null</td><td>null</td><td>null</td><td>null</td><td>null</td><td>null</td><td>null</td><td>null</td><td>null</td><td>null</td><td>null</td><td>null</td><td>null</td><td>null</td><td>null</td><td>null</td><td>null</td><td>null</td><td>null</td><td>null</td><td>null</td><td>null</td><td>null</td><td>null</td><td>null</td><td>null</td><td>null</td><td>null</td><td>null</td><td>null</td><td>null</td><td>null</td><td>null</td><td>null</td></tr></tbody></table></div>"
      ],
      "text/plain": [
       "shape: (5, 3_683)\n",
       "┌───────────────────┬──────┬───────┬───────┬───┬────────┬────────┬────────┬────────┐\n",
       "│ user_id           ┆ 1250 ┆ 22200 ┆ 43110 ┆ … ┆ 209120 ┆ 220090 ┆ 262850 ┆ 431510 │\n",
       "│ ---               ┆ ---  ┆ ---   ┆ ---   ┆   ┆ ---    ┆ ---    ┆ ---    ┆ ---    │\n",
       "│ str               ┆ null ┆ null  ┆ null  ┆   ┆ null   ┆ null   ┆ null   ┆ null   │\n",
       "╞═══════════════════╪══════╪═══════╪═══════╪═══╪════════╪════════╪════════╪════════╡\n",
       "│ 76561198086466069 ┆ null ┆ null  ┆ null  ┆ … ┆ null   ┆ null   ┆ null   ┆ null   │\n",
       "│ pooldeadlol       ┆ null ┆ null  ┆ null  ┆ … ┆ null   ┆ null   ┆ null   ┆ null   │\n",
       "│ housty8           ┆ null ┆ null  ┆ null  ┆ … ┆ null   ┆ null   ┆ null   ┆ null   │\n",
       "│ 76561198087476924 ┆ null ┆ null  ┆ null  ┆ … ┆ null   ┆ null   ┆ null   ┆ null   │\n",
       "│ OmGwTfLoLrOfLmFaO ┆ null ┆ null  ┆ null  ┆ … ┆ null   ┆ null   ┆ null   ┆ null   │\n",
       "└───────────────────┴──────┴───────┴───────┴───┴────────┴────────┴────────┴────────┘"
      ]
     },
     "execution_count": 16,
     "metadata": {},
     "output_type": "execute_result"
    }
   ],
   "source": [
    "df_append.head()"
   ]
  },
  {
   "cell_type": "code",
   "execution_count": 17,
   "metadata": {},
   "outputs": [
    {
     "data": {
      "text/html": [
       "<div><style>\n",
       ".dataframe > thead > tr,\n",
       ".dataframe > tbody > tr {\n",
       "  text-align: right;\n",
       "  white-space: pre-wrap;\n",
       "}\n",
       "</style>\n",
       "<small>shape: (5, 3_683)</small><table border=\"1\" class=\"dataframe\"><thead><tr><th>user_id</th><th>1250</th><th>22200</th><th>43110</th><th>251610</th><th>227300</th><th>239030</th><th>248820</th><th>370360</th><th>237930</th><th>263360</th><th>107200</th><th>224500</th><th>250320</th><th>20920</th><th>204100</th><th>224600</th><th>207610</th><th>108710</th><th>211420</th><th>211820</th><th>730</th><th>204300</th><th>249130</th><th>550</th><th>65800</th><th>220</th><th>72850</th><th>440</th><th>252950</th><th>304930</th><th>4000</th><th>42910</th><th>232090</th><th>570</th><th>218620</th><th>224260</th><th>&hellip;</th><th>210170</th><th>319150</th><th>225833</th><th>378660</th><th>242590</th><th>339910</th><th>61730</th><th>259410</th><th>318520</th><th>319970</th><th>378580</th><th>420930</th><th>349740</th><th>254130</th><th>274350</th><th>381020</th><th>358260</th><th>358340</th><th>358290</th><th>256500</th><th>431840</th><th>385890</th><th>203250</th><th>348670</th><th>385630</th><th>385980</th><th>369000</th><th>294230</th><th>367780</th><th>305920</th><th>306040</th><th>414390</th><th>307130</th><th>209120</th><th>220090</th><th>262850</th><th>431510</th></tr><tr><td>str</td><td>i32</td><td>i32</td><td>i32</td><td>i32</td><td>i32</td><td>i32</td><td>i32</td><td>i32</td><td>i32</td><td>i32</td><td>i32</td><td>i32</td><td>i32</td><td>i32</td><td>i32</td><td>i32</td><td>i32</td><td>i32</td><td>i32</td><td>i32</td><td>i32</td><td>i32</td><td>i32</td><td>i32</td><td>i32</td><td>i32</td><td>i32</td><td>i32</td><td>i32</td><td>i32</td><td>i32</td><td>i32</td><td>i32</td><td>i32</td><td>i32</td><td>i32</td><td>&hellip;</td><td>i32</td><td>i32</td><td>i32</td><td>i32</td><td>i32</td><td>i32</td><td>i32</td><td>i32</td><td>i32</td><td>i32</td><td>i32</td><td>i32</td><td>i32</td><td>i32</td><td>i32</td><td>i32</td><td>i32</td><td>i32</td><td>i32</td><td>i32</td><td>i32</td><td>i32</td><td>i32</td><td>i32</td><td>i32</td><td>i32</td><td>i32</td><td>i32</td><td>i32</td><td>i32</td><td>i32</td><td>i32</td><td>i32</td><td>i32</td><td>i32</td><td>i32</td><td>i32</td></tr></thead><tbody><tr><td>&quot;76561197970982…</td><td>2</td><td>2</td><td>2</td><td>null</td><td>null</td><td>null</td><td>null</td><td>null</td><td>null</td><td>null</td><td>null</td><td>null</td><td>null</td><td>null</td><td>null</td><td>null</td><td>null</td><td>null</td><td>null</td><td>null</td><td>null</td><td>null</td><td>null</td><td>null</td><td>null</td><td>null</td><td>null</td><td>null</td><td>null</td><td>null</td><td>null</td><td>null</td><td>null</td><td>null</td><td>null</td><td>null</td><td>&hellip;</td><td>null</td><td>null</td><td>null</td><td>null</td><td>null</td><td>null</td><td>null</td><td>null</td><td>null</td><td>null</td><td>null</td><td>null</td><td>null</td><td>null</td><td>null</td><td>null</td><td>null</td><td>null</td><td>null</td><td>null</td><td>null</td><td>null</td><td>null</td><td>null</td><td>null</td><td>null</td><td>null</td><td>null</td><td>null</td><td>null</td><td>null</td><td>null</td><td>null</td><td>null</td><td>null</td><td>null</td><td>null</td></tr><tr><td>&quot;js41637&quot;</td><td>null</td><td>null</td><td>null</td><td>2</td><td>2</td><td>2</td><td>null</td><td>null</td><td>null</td><td>null</td><td>null</td><td>null</td><td>null</td><td>null</td><td>null</td><td>null</td><td>null</td><td>null</td><td>null</td><td>null</td><td>null</td><td>null</td><td>null</td><td>null</td><td>null</td><td>null</td><td>null</td><td>null</td><td>null</td><td>null</td><td>null</td><td>null</td><td>null</td><td>null</td><td>null</td><td>null</td><td>&hellip;</td><td>null</td><td>null</td><td>null</td><td>null</td><td>null</td><td>null</td><td>null</td><td>null</td><td>null</td><td>null</td><td>null</td><td>null</td><td>null</td><td>null</td><td>null</td><td>null</td><td>null</td><td>null</td><td>null</td><td>null</td><td>null</td><td>null</td><td>null</td><td>null</td><td>null</td><td>null</td><td>null</td><td>null</td><td>null</td><td>null</td><td>null</td><td>null</td><td>null</td><td>null</td><td>null</td><td>null</td><td>null</td></tr><tr><td>&quot;evcentric&quot;</td><td>null</td><td>null</td><td>null</td><td>null</td><td>null</td><td>null</td><td>2</td><td>2</td><td>2</td><td>0</td><td>2</td><td>2</td><td>null</td><td>null</td><td>null</td><td>null</td><td>null</td><td>null</td><td>null</td><td>null</td><td>null</td><td>null</td><td>null</td><td>null</td><td>null</td><td>null</td><td>null</td><td>null</td><td>null</td><td>null</td><td>null</td><td>null</td><td>null</td><td>null</td><td>null</td><td>null</td><td>&hellip;</td><td>null</td><td>null</td><td>null</td><td>null</td><td>null</td><td>null</td><td>null</td><td>null</td><td>null</td><td>null</td><td>null</td><td>null</td><td>null</td><td>null</td><td>null</td><td>null</td><td>null</td><td>null</td><td>null</td><td>null</td><td>null</td><td>null</td><td>null</td><td>null</td><td>null</td><td>null</td><td>null</td><td>null</td><td>null</td><td>null</td><td>null</td><td>null</td><td>null</td><td>null</td><td>null</td><td>null</td><td>null</td></tr><tr><td>&quot;doctr&quot;</td><td>null</td><td>null</td><td>null</td><td>null</td><td>null</td><td>null</td><td>null</td><td>null</td><td>null</td><td>null</td><td>null</td><td>null</td><td>2</td><td>2</td><td>2</td><td>2</td><td>0</td><td>2</td><td>null</td><td>null</td><td>null</td><td>null</td><td>null</td><td>null</td><td>null</td><td>null</td><td>null</td><td>null</td><td>null</td><td>null</td><td>null</td><td>null</td><td>null</td><td>null</td><td>null</td><td>null</td><td>&hellip;</td><td>null</td><td>null</td><td>null</td><td>null</td><td>null</td><td>null</td><td>null</td><td>null</td><td>null</td><td>null</td><td>null</td><td>null</td><td>null</td><td>null</td><td>null</td><td>null</td><td>null</td><td>null</td><td>null</td><td>null</td><td>null</td><td>null</td><td>null</td><td>null</td><td>null</td><td>null</td><td>null</td><td>null</td><td>null</td><td>null</td><td>null</td><td>null</td><td>null</td><td>null</td><td>null</td><td>null</td><td>null</td></tr><tr><td>&quot;maplemage&quot;</td><td>null</td><td>null</td><td>null</td><td>null</td><td>null</td><td>null</td><td>null</td><td>null</td><td>null</td><td>null</td><td>null</td><td>null</td><td>null</td><td>null</td><td>null</td><td>null</td><td>null</td><td>null</td><td>1</td><td>2</td><td>2</td><td>2</td><td>null</td><td>null</td><td>null</td><td>null</td><td>null</td><td>null</td><td>null</td><td>null</td><td>null</td><td>null</td><td>null</td><td>null</td><td>null</td><td>null</td><td>&hellip;</td><td>null</td><td>null</td><td>null</td><td>null</td><td>null</td><td>null</td><td>null</td><td>null</td><td>null</td><td>null</td><td>null</td><td>null</td><td>null</td><td>null</td><td>null</td><td>null</td><td>null</td><td>null</td><td>null</td><td>null</td><td>null</td><td>null</td><td>null</td><td>null</td><td>null</td><td>null</td><td>null</td><td>null</td><td>null</td><td>null</td><td>null</td><td>null</td><td>null</td><td>null</td><td>null</td><td>null</td><td>null</td></tr></tbody></table></div>"
      ],
      "text/plain": [
       "shape: (5, 3_683)\n",
       "┌───────────────────┬──────┬───────┬───────┬───┬────────┬────────┬────────┬────────┐\n",
       "│ user_id           ┆ 1250 ┆ 22200 ┆ 43110 ┆ … ┆ 209120 ┆ 220090 ┆ 262850 ┆ 431510 │\n",
       "│ ---               ┆ ---  ┆ ---   ┆ ---   ┆   ┆ ---    ┆ ---    ┆ ---    ┆ ---    │\n",
       "│ str               ┆ i32  ┆ i32   ┆ i32   ┆   ┆ i32    ┆ i32    ┆ i32    ┆ i32    │\n",
       "╞═══════════════════╪══════╪═══════╪═══════╪═══╪════════╪════════╪════════╪════════╡\n",
       "│ 76561197970982479 ┆ 2    ┆ 2     ┆ 2     ┆ … ┆ null   ┆ null   ┆ null   ┆ null   │\n",
       "│ js41637           ┆ null ┆ null  ┆ null  ┆ … ┆ null   ┆ null   ┆ null   ┆ null   │\n",
       "│ evcentric         ┆ null ┆ null  ┆ null  ┆ … ┆ null   ┆ null   ┆ null   ┆ null   │\n",
       "│ doctr             ┆ null ┆ null  ┆ null  ┆ … ┆ null   ┆ null   ┆ null   ┆ null   │\n",
       "│ maplemage         ┆ null ┆ null  ┆ null  ┆ … ┆ null   ┆ null   ┆ null   ┆ null   │\n",
       "└───────────────────┴──────┴───────┴───────┴───┴────────┴────────┴────────┴────────┘"
      ]
     },
     "execution_count": 17,
     "metadata": {},
     "output_type": "execute_result"
    }
   ],
   "source": [
    "df_pivot = pl.concat([df_pivot, df_append], how= 'vertical_relaxed')\n",
    "df_pivot.head()"
   ]
  },
  {
   "cell_type": "code",
   "execution_count": 18,
   "metadata": {},
   "outputs": [],
   "source": [
    "df_pivot = df_pivot.unique(subset=['user_id'])"
   ]
  },
  {
   "cell_type": "code",
   "execution_count": 19,
   "metadata": {},
   "outputs": [
    {
     "data": {
      "text/plain": [
       "(73757, 3683)"
      ]
     },
     "execution_count": 19,
     "metadata": {},
     "output_type": "execute_result"
    }
   ],
   "source": [
    "df_pivot.shape"
   ]
  },
  {
   "cell_type": "code",
   "execution_count": 20,
   "metadata": {},
   "outputs": [
    {
     "data": {
      "text/html": [
       "<div><style>\n",
       ".dataframe > thead > tr,\n",
       ".dataframe > tbody > tr {\n",
       "  text-align: right;\n",
       "  white-space: pre-wrap;\n",
       "}\n",
       "</style>\n",
       "<small>shape: (5, 6)</small><table border=\"1\" class=\"dataframe\"><thead><tr><th>user_id</th><th>playtime_forever</th><th>playtime_2weeks</th><th>item_id</th><th>item_name</th><th>__index_level_0__</th></tr><tr><td>str</td><td>i64</td><td>i64</td><td>i32</td><td>str</td><td>i64</td></tr></thead><tbody><tr><td>&quot;76561197970982…</td><td>6</td><td>0</td><td>10</td><td>&quot;Counter-Strike…</td><td>0</td></tr><tr><td>&quot;76561197970982…</td><td>0</td><td>0</td><td>20</td><td>&quot;Team Fortress …</td><td>1</td></tr><tr><td>&quot;76561197970982…</td><td>7</td><td>0</td><td>30</td><td>&quot;Day of Defeat&quot;</td><td>2</td></tr><tr><td>&quot;76561197970982…</td><td>0</td><td>0</td><td>40</td><td>&quot;Deathmatch Cla…</td><td>3</td></tr><tr><td>&quot;76561197970982…</td><td>0</td><td>0</td><td>50</td><td>&quot;Half-Life: Opp…</td><td>4</td></tr></tbody></table></div>"
      ],
      "text/plain": [
       "shape: (5, 6)\n",
       "┌─────────────────┬─────────────────┬─────────────────┬─────────┬─────────────────┬────────────────┐\n",
       "│ user_id         ┆ playtime_foreve ┆ playtime_2weeks ┆ item_id ┆ item_name       ┆ __index_level_ │\n",
       "│ ---             ┆ r               ┆ ---             ┆ ---     ┆ ---             ┆ 0__            │\n",
       "│ str             ┆ ---             ┆ i64             ┆ i32     ┆ str             ┆ ---            │\n",
       "│                 ┆ i64             ┆                 ┆         ┆                 ┆ i64            │\n",
       "╞═════════════════╪═════════════════╪═════════════════╪═════════╪═════════════════╪════════════════╡\n",
       "│ 765611979709824 ┆ 6               ┆ 0               ┆ 10      ┆ Counter-Strike  ┆ 0              │\n",
       "│ 79              ┆                 ┆                 ┆         ┆                 ┆                │\n",
       "│ 765611979709824 ┆ 0               ┆ 0               ┆ 20      ┆ Team Fortress   ┆ 1              │\n",
       "│ 79              ┆                 ┆                 ┆         ┆ Classic         ┆                │\n",
       "│ 765611979709824 ┆ 7               ┆ 0               ┆ 30      ┆ Day of Defeat   ┆ 2              │\n",
       "│ 79              ┆                 ┆                 ┆         ┆                 ┆                │\n",
       "│ 765611979709824 ┆ 0               ┆ 0               ┆ 40      ┆ Deathmatch      ┆ 3              │\n",
       "│ 79              ┆                 ┆                 ┆         ┆ Classic         ┆                │\n",
       "│ 765611979709824 ┆ 0               ┆ 0               ┆ 50      ┆ Half-Life:      ┆ 4              │\n",
       "│ 79              ┆                 ┆                 ┆         ┆ Opposing Force  ┆                │\n",
       "└─────────────────┴─────────────────┴─────────────────┴─────────┴─────────────────┴────────────────┘"
      ]
     },
     "execution_count": 20,
     "metadata": {},
     "output_type": "execute_result"
    }
   ],
   "source": [
    "users.head()"
   ]
  },
  {
   "cell_type": "code",
   "execution_count": 21,
   "metadata": {},
   "outputs": [],
   "source": [
    "users = users[['user_id', 'playtime_forever', 'playtime_2weeks']]\n",
    "users_grouped = users.groupby('user_id').agg([\n",
    "    pl.col('playtime_forever').sum().alias('total_playtime_forever'),\n",
    "    pl.col('playtime_2weeks').sum().alias('total_playtime_2weeks')\n",
    "])"
   ]
  },
  {
   "cell_type": "code",
   "execution_count": 22,
   "metadata": {},
   "outputs": [
    {
     "data": {
      "text/html": [
       "<div><style>\n",
       ".dataframe > thead > tr,\n",
       ".dataframe > tbody > tr {\n",
       "  text-align: right;\n",
       "  white-space: pre-wrap;\n",
       "}\n",
       "</style>\n",
       "<small>shape: (5, 3)</small><table border=\"1\" class=\"dataframe\"><thead><tr><th>user_id</th><th>total_playtime_forever</th><th>total_playtime_2weeks</th></tr><tr><td>str</td><td>i64</td><td>i64</td></tr></thead><tbody><tr><td>&quot;76561198054662…</td><td>203383</td><td>4135</td></tr><tr><td>&quot;76561198068225…</td><td>113908</td><td>3350</td></tr><tr><td>&quot;jaguarpanda&quot;</td><td>86800</td><td>323</td></tr><tr><td>&quot;400primetopkek…</td><td>15587</td><td>172</td></tr><tr><td>&quot;vintageale&quot;</td><td>55784</td><td>0</td></tr></tbody></table></div>"
      ],
      "text/plain": [
       "shape: (5, 3)\n",
       "┌───────────────────┬────────────────────────┬───────────────────────┐\n",
       "│ user_id           ┆ total_playtime_forever ┆ total_playtime_2weeks │\n",
       "│ ---               ┆ ---                    ┆ ---                   │\n",
       "│ str               ┆ i64                    ┆ i64                   │\n",
       "╞═══════════════════╪════════════════════════╪═══════════════════════╡\n",
       "│ 76561198054662553 ┆ 203383                 ┆ 4135                  │\n",
       "│ 76561198068225657 ┆ 113908                 ┆ 3350                  │\n",
       "│ jaguarpanda       ┆ 86800                  ┆ 323                   │\n",
       "│ 400primetopkeks   ┆ 15587                  ┆ 172                   │\n",
       "│ vintageale        ┆ 55784                  ┆ 0                     │\n",
       "└───────────────────┴────────────────────────┴───────────────────────┘"
      ]
     },
     "execution_count": 22,
     "metadata": {},
     "output_type": "execute_result"
    }
   ],
   "source": [
    "users_grouped.head()"
   ]
  },
  {
   "cell_type": "code",
   "execution_count": 23,
   "metadata": {},
   "outputs": [
    {
     "data": {
      "text/html": [
       "<div><style>\n",
       ".dataframe > thead > tr,\n",
       ".dataframe > tbody > tr {\n",
       "  text-align: right;\n",
       "  white-space: pre-wrap;\n",
       "}\n",
       "</style>\n",
       "<small>shape: (2_509, 3)</small><table border=\"1\" class=\"dataframe\"><thead><tr><th>user_id</th><th>total_playtime_forever</th><th>total_playtime_2weeks</th></tr><tr><td>str</td><td>i64</td><td>i64</td></tr></thead><tbody><tr><td>&quot;76561198069701…</td><td>0</td><td>0</td></tr><tr><td>&quot;76561198083407…</td><td>0</td><td>0</td></tr><tr><td>&quot;76561198047203…</td><td>0</td><td>0</td></tr><tr><td>&quot;76561198072663…</td><td>0</td><td>0</td></tr><tr><td>&quot;76561198081164…</td><td>0</td><td>0</td></tr><tr><td>&quot;76561198081178…</td><td>0</td><td>0</td></tr><tr><td>&quot;76561198077908…</td><td>0</td><td>0</td></tr><tr><td>&quot;BuTcHiouroshi&quot;</td><td>0</td><td>0</td></tr><tr><td>&quot;HeoSuaXongDzol…</td><td>0</td><td>0</td></tr><tr><td>&quot;76561198083982…</td><td>0</td><td>0</td></tr><tr><td>&quot;76561198146219…</td><td>0</td><td>0</td></tr><tr><td>&quot;76561198156715…</td><td>0</td><td>0</td></tr><tr><td>&hellip;</td><td>&hellip;</td><td>&hellip;</td></tr><tr><td>&quot;76561198098798…</td><td>0</td><td>0</td></tr><tr><td>&quot;mandiok10&quot;</td><td>0</td><td>0</td></tr><tr><td>&quot;76561198056769…</td><td>0</td><td>0</td></tr><tr><td>&quot;76561198048440…</td><td>0</td><td>0</td></tr><tr><td>&quot;76561198095319…</td><td>0</td><td>0</td></tr><tr><td>&quot;76561198057150…</td><td>0</td><td>0</td></tr><tr><td>&quot;76561198082582…</td><td>0</td><td>0</td></tr><tr><td>&quot;76561198095964…</td><td>0</td><td>0</td></tr><tr><td>&quot;76561198100033…</td><td>0</td><td>0</td></tr><tr><td>&quot;76561198049093…</td><td>0</td><td>0</td></tr><tr><td>&quot;76561198046344…</td><td>0</td><td>0</td></tr><tr><td>&quot;76561198099963…</td><td>0</td><td>0</td></tr></tbody></table></div>"
      ],
      "text/plain": [
       "shape: (2_509, 3)\n",
       "┌───────────────────┬────────────────────────┬───────────────────────┐\n",
       "│ user_id           ┆ total_playtime_forever ┆ total_playtime_2weeks │\n",
       "│ ---               ┆ ---                    ┆ ---                   │\n",
       "│ str               ┆ i64                    ┆ i64                   │\n",
       "╞═══════════════════╪════════════════════════╪═══════════════════════╡\n",
       "│ 76561198069701277 ┆ 0                      ┆ 0                     │\n",
       "│ 76561198083407102 ┆ 0                      ┆ 0                     │\n",
       "│ 76561198047203328 ┆ 0                      ┆ 0                     │\n",
       "│ 76561198072663655 ┆ 0                      ┆ 0                     │\n",
       "│ 76561198081164097 ┆ 0                      ┆ 0                     │\n",
       "│ …                 ┆ …                      ┆ …                     │\n",
       "│ 76561198095964093 ┆ 0                      ┆ 0                     │\n",
       "│ 76561198100033442 ┆ 0                      ┆ 0                     │\n",
       "│ 76561198049093018 ┆ 0                      ┆ 0                     │\n",
       "│ 76561198046344620 ┆ 0                      ┆ 0                     │\n",
       "│ 76561198099963644 ┆ 0                      ┆ 0                     │\n",
       "└───────────────────┴────────────────────────┴───────────────────────┘"
      ]
     },
     "execution_count": 23,
     "metadata": {},
     "output_type": "execute_result"
    }
   ],
   "source": [
    "users_grouped.filter(users_grouped['total_playtime_forever'] == 0)"
   ]
  },
  {
   "cell_type": "code",
   "execution_count": 26,
   "metadata": {},
   "outputs": [],
   "source": [
    "#df_pivot = df_pivot.cast(pl.UInt8, strict=False)\n",
    "df_pivot = df_pivot.fill_null(1)"
   ]
  },
  {
   "cell_type": "code",
   "execution_count": 27,
   "metadata": {},
   "outputs": [],
   "source": [
    "df_final = df_pivot.join(users_grouped, on= 'user_id', how= 'left')"
   ]
  },
  {
   "cell_type": "code",
   "execution_count": 28,
   "metadata": {},
   "outputs": [],
   "source": [
    "df_final = df_final.fill_null(0)"
   ]
  },
  {
   "cell_type": "code",
   "execution_count": 29,
   "metadata": {},
   "outputs": [
    {
     "data": {
      "text/html": [
       "<div><style>\n",
       ".dataframe > thead > tr,\n",
       ".dataframe > tbody > tr {\n",
       "  text-align: right;\n",
       "  white-space: pre-wrap;\n",
       "}\n",
       "</style>\n",
       "<small>shape: (5, 3_685)</small><table border=\"1\" class=\"dataframe\"><thead><tr><th>user_id</th><th>1250</th><th>22200</th><th>43110</th><th>251610</th><th>227300</th><th>239030</th><th>248820</th><th>370360</th><th>237930</th><th>263360</th><th>107200</th><th>224500</th><th>250320</th><th>20920</th><th>204100</th><th>224600</th><th>207610</th><th>108710</th><th>211420</th><th>211820</th><th>730</th><th>204300</th><th>249130</th><th>550</th><th>65800</th><th>220</th><th>72850</th><th>440</th><th>252950</th><th>304930</th><th>4000</th><th>42910</th><th>232090</th><th>570</th><th>218620</th><th>224260</th><th>&hellip;</th><th>225833</th><th>378660</th><th>242590</th><th>339910</th><th>61730</th><th>259410</th><th>318520</th><th>319970</th><th>378580</th><th>420930</th><th>349740</th><th>254130</th><th>274350</th><th>381020</th><th>358260</th><th>358340</th><th>358290</th><th>256500</th><th>431840</th><th>385890</th><th>203250</th><th>348670</th><th>385630</th><th>385980</th><th>369000</th><th>294230</th><th>367780</th><th>305920</th><th>306040</th><th>414390</th><th>307130</th><th>209120</th><th>220090</th><th>262850</th><th>431510</th><th>total_playtime_forever</th><th>total_playtime_2weeks</th></tr><tr><td>str</td><td>i32</td><td>i32</td><td>i32</td><td>i32</td><td>i32</td><td>i32</td><td>i32</td><td>i32</td><td>i32</td><td>i32</td><td>i32</td><td>i32</td><td>i32</td><td>i32</td><td>i32</td><td>i32</td><td>i32</td><td>i32</td><td>i32</td><td>i32</td><td>i32</td><td>i32</td><td>i32</td><td>i32</td><td>i32</td><td>i32</td><td>i32</td><td>i32</td><td>i32</td><td>i32</td><td>i32</td><td>i32</td><td>i32</td><td>i32</td><td>i32</td><td>i32</td><td>&hellip;</td><td>i32</td><td>i32</td><td>i32</td><td>i32</td><td>i32</td><td>i32</td><td>i32</td><td>i32</td><td>i32</td><td>i32</td><td>i32</td><td>i32</td><td>i32</td><td>i32</td><td>i32</td><td>i32</td><td>i32</td><td>i32</td><td>i32</td><td>i32</td><td>i32</td><td>i32</td><td>i32</td><td>i32</td><td>i32</td><td>i32</td><td>i32</td><td>i32</td><td>i32</td><td>i32</td><td>i32</td><td>i32</td><td>i32</td><td>i32</td><td>i32</td><td>i64</td><td>i64</td></tr></thead><tbody><tr><td>&quot;76561198090457…</td><td>1</td><td>1</td><td>1</td><td>1</td><td>1</td><td>1</td><td>1</td><td>1</td><td>1</td><td>1</td><td>1</td><td>1</td><td>1</td><td>1</td><td>1</td><td>1</td><td>1</td><td>1</td><td>1</td><td>1</td><td>1</td><td>1</td><td>1</td><td>1</td><td>1</td><td>1</td><td>1</td><td>1</td><td>1</td><td>1</td><td>1</td><td>1</td><td>1</td><td>1</td><td>1</td><td>1</td><td>&hellip;</td><td>1</td><td>1</td><td>1</td><td>1</td><td>1</td><td>1</td><td>1</td><td>1</td><td>1</td><td>1</td><td>1</td><td>1</td><td>1</td><td>1</td><td>1</td><td>1</td><td>1</td><td>1</td><td>1</td><td>1</td><td>1</td><td>1</td><td>1</td><td>1</td><td>1</td><td>1</td><td>1</td><td>1</td><td>1</td><td>1</td><td>1</td><td>1</td><td>1</td><td>1</td><td>1</td><td>3180</td><td>0</td></tr><tr><td>&quot;76561198091690…</td><td>1</td><td>1</td><td>1</td><td>1</td><td>1</td><td>1</td><td>1</td><td>1</td><td>1</td><td>1</td><td>1</td><td>1</td><td>1</td><td>1</td><td>1</td><td>1</td><td>1</td><td>1</td><td>1</td><td>1</td><td>1</td><td>1</td><td>1</td><td>1</td><td>1</td><td>1</td><td>1</td><td>1</td><td>1</td><td>1</td><td>1</td><td>1</td><td>1</td><td>1</td><td>1</td><td>1</td><td>&hellip;</td><td>1</td><td>1</td><td>1</td><td>1</td><td>1</td><td>1</td><td>1</td><td>1</td><td>1</td><td>1</td><td>1</td><td>1</td><td>1</td><td>1</td><td>1</td><td>1</td><td>1</td><td>1</td><td>1</td><td>1</td><td>1</td><td>1</td><td>1</td><td>1</td><td>1</td><td>1</td><td>1</td><td>1</td><td>1</td><td>1</td><td>1</td><td>1</td><td>1</td><td>1</td><td>1</td><td>7354</td><td>0</td></tr><tr><td>&quot;JakDaRippa&quot;</td><td>1</td><td>1</td><td>1</td><td>1</td><td>1</td><td>1</td><td>1</td><td>1</td><td>1</td><td>1</td><td>1</td><td>1</td><td>1</td><td>1</td><td>1</td><td>1</td><td>1</td><td>1</td><td>1</td><td>1</td><td>1</td><td>1</td><td>1</td><td>1</td><td>1</td><td>1</td><td>1</td><td>1</td><td>1</td><td>1</td><td>1</td><td>1</td><td>1</td><td>1</td><td>1</td><td>1</td><td>&hellip;</td><td>1</td><td>1</td><td>1</td><td>1</td><td>1</td><td>1</td><td>1</td><td>1</td><td>1</td><td>1</td><td>1</td><td>1</td><td>1</td><td>1</td><td>1</td><td>1</td><td>1</td><td>1</td><td>1</td><td>1</td><td>1</td><td>1</td><td>1</td><td>1</td><td>1</td><td>1</td><td>1</td><td>1</td><td>1</td><td>1</td><td>1</td><td>1</td><td>1</td><td>1</td><td>1</td><td>23959</td><td>791</td></tr><tr><td>&quot;Iwannahoneyboo…</td><td>1</td><td>1</td><td>1</td><td>1</td><td>1</td><td>1</td><td>1</td><td>1</td><td>1</td><td>1</td><td>1</td><td>1</td><td>1</td><td>1</td><td>1</td><td>1</td><td>1</td><td>1</td><td>1</td><td>1</td><td>2</td><td>1</td><td>1</td><td>1</td><td>1</td><td>1</td><td>1</td><td>1</td><td>1</td><td>1</td><td>1</td><td>1</td><td>1</td><td>1</td><td>1</td><td>1</td><td>&hellip;</td><td>1</td><td>1</td><td>1</td><td>1</td><td>1</td><td>1</td><td>1</td><td>1</td><td>1</td><td>1</td><td>1</td><td>1</td><td>1</td><td>1</td><td>1</td><td>1</td><td>1</td><td>1</td><td>1</td><td>1</td><td>1</td><td>1</td><td>1</td><td>1</td><td>1</td><td>1</td><td>1</td><td>1</td><td>1</td><td>1</td><td>1</td><td>1</td><td>1</td><td>1</td><td>1</td><td>67222</td><td>39</td></tr><tr><td>&quot;76561198003315…</td><td>1</td><td>1</td><td>1</td><td>1</td><td>1</td><td>1</td><td>1</td><td>1</td><td>1</td><td>1</td><td>1</td><td>1</td><td>1</td><td>1</td><td>1</td><td>1</td><td>1</td><td>1</td><td>1</td><td>1</td><td>1</td><td>1</td><td>1</td><td>1</td><td>1</td><td>1</td><td>1</td><td>1</td><td>1</td><td>1</td><td>1</td><td>1</td><td>1</td><td>1</td><td>1</td><td>1</td><td>&hellip;</td><td>1</td><td>1</td><td>1</td><td>1</td><td>1</td><td>1</td><td>1</td><td>1</td><td>1</td><td>1</td><td>1</td><td>1</td><td>1</td><td>1</td><td>1</td><td>1</td><td>1</td><td>1</td><td>1</td><td>1</td><td>1</td><td>1</td><td>1</td><td>1</td><td>1</td><td>1</td><td>1</td><td>1</td><td>1</td><td>1</td><td>1</td><td>1</td><td>1</td><td>1</td><td>1</td><td>6812</td><td>0</td></tr></tbody></table></div>"
      ],
      "text/plain": [
       "shape: (5, 3_685)\n",
       "┌─────────────────┬──────┬───────┬───────┬───┬────────┬────────┬─────────────────┬─────────────────┐\n",
       "│ user_id         ┆ 1250 ┆ 22200 ┆ 43110 ┆ … ┆ 262850 ┆ 431510 ┆ total_playtime_ ┆ total_playtime_ │\n",
       "│ ---             ┆ ---  ┆ ---   ┆ ---   ┆   ┆ ---    ┆ ---    ┆ forever         ┆ 2weeks          │\n",
       "│ str             ┆ i32  ┆ i32   ┆ i32   ┆   ┆ i32    ┆ i32    ┆ ---             ┆ ---             │\n",
       "│                 ┆      ┆       ┆       ┆   ┆        ┆        ┆ i64             ┆ i64             │\n",
       "╞═════════════════╪══════╪═══════╪═══════╪═══╪════════╪════════╪═════════════════╪═════════════════╡\n",
       "│ 765611980904578 ┆ 1    ┆ 1     ┆ 1     ┆ … ┆ 1      ┆ 1      ┆ 3180            ┆ 0               │\n",
       "│ 28              ┆      ┆       ┆       ┆   ┆        ┆        ┆                 ┆                 │\n",
       "│ 765611980916903 ┆ 1    ┆ 1     ┆ 1     ┆ … ┆ 1      ┆ 1      ┆ 7354            ┆ 0               │\n",
       "│ 36              ┆      ┆       ┆       ┆   ┆        ┆        ┆                 ┆                 │\n",
       "│ JakDaRippa      ┆ 1    ┆ 1     ┆ 1     ┆ … ┆ 1      ┆ 1      ┆ 23959           ┆ 791             │\n",
       "│ Iwannahoneyboob ┆ 1    ┆ 1     ┆ 1     ┆ … ┆ 1      ┆ 1      ┆ 67222           ┆ 39              │\n",
       "│ ootorapeme      ┆      ┆       ┆       ┆   ┆        ┆        ┆                 ┆                 │\n",
       "│ 765611980033155 ┆ 1    ┆ 1     ┆ 1     ┆ … ┆ 1      ┆ 1      ┆ 6812            ┆ 0               │\n",
       "│ 06              ┆      ┆       ┆       ┆   ┆        ┆        ┆                 ┆                 │\n",
       "└─────────────────┴──────┴───────┴───────┴───┴────────┴────────┴─────────────────┴─────────────────┘"
      ]
     },
     "execution_count": 29,
     "metadata": {},
     "output_type": "execute_result"
    }
   ],
   "source": [
    "df_final.head()"
   ]
  },
  {
   "cell_type": "code",
   "execution_count": 30,
   "metadata": {},
   "outputs": [
    {
     "data": {
      "text/html": [
       "<div><style>\n",
       ".dataframe > thead > tr,\n",
       ".dataframe > tbody > tr {\n",
       "  text-align: right;\n",
       "  white-space: pre-wrap;\n",
       "}\n",
       "</style>\n",
       "<small>shape: (5_354, 3_685)</small><table border=\"1\" class=\"dataframe\"><thead><tr><th>user_id</th><th>1250</th><th>22200</th><th>43110</th><th>251610</th><th>227300</th><th>239030</th><th>248820</th><th>370360</th><th>237930</th><th>263360</th><th>107200</th><th>224500</th><th>250320</th><th>20920</th><th>204100</th><th>224600</th><th>207610</th><th>108710</th><th>211420</th><th>211820</th><th>730</th><th>204300</th><th>249130</th><th>550</th><th>65800</th><th>220</th><th>72850</th><th>440</th><th>252950</th><th>304930</th><th>4000</th><th>42910</th><th>232090</th><th>570</th><th>218620</th><th>224260</th><th>&hellip;</th><th>225833</th><th>378660</th><th>242590</th><th>339910</th><th>61730</th><th>259410</th><th>318520</th><th>319970</th><th>378580</th><th>420930</th><th>349740</th><th>254130</th><th>274350</th><th>381020</th><th>358260</th><th>358340</th><th>358290</th><th>256500</th><th>431840</th><th>385890</th><th>203250</th><th>348670</th><th>385630</th><th>385980</th><th>369000</th><th>294230</th><th>367780</th><th>305920</th><th>306040</th><th>414390</th><th>307130</th><th>209120</th><th>220090</th><th>262850</th><th>431510</th><th>total_playtime_forever</th><th>total_playtime_2weeks</th></tr><tr><td>str</td><td>i32</td><td>i32</td><td>i32</td><td>i32</td><td>i32</td><td>i32</td><td>i32</td><td>i32</td><td>i32</td><td>i32</td><td>i32</td><td>i32</td><td>i32</td><td>i32</td><td>i32</td><td>i32</td><td>i32</td><td>i32</td><td>i32</td><td>i32</td><td>i32</td><td>i32</td><td>i32</td><td>i32</td><td>i32</td><td>i32</td><td>i32</td><td>i32</td><td>i32</td><td>i32</td><td>i32</td><td>i32</td><td>i32</td><td>i32</td><td>i32</td><td>i32</td><td>&hellip;</td><td>i32</td><td>i32</td><td>i32</td><td>i32</td><td>i32</td><td>i32</td><td>i32</td><td>i32</td><td>i32</td><td>i32</td><td>i32</td><td>i32</td><td>i32</td><td>i32</td><td>i32</td><td>i32</td><td>i32</td><td>i32</td><td>i32</td><td>i32</td><td>i32</td><td>i32</td><td>i32</td><td>i32</td><td>i32</td><td>i32</td><td>i32</td><td>i32</td><td>i32</td><td>i32</td><td>i32</td><td>i32</td><td>i32</td><td>i32</td><td>i32</td><td>i64</td><td>i64</td></tr></thead><tbody><tr><td>&quot;Red_M&quot;</td><td>1</td><td>1</td><td>1</td><td>1</td><td>1</td><td>1</td><td>1</td><td>1</td><td>1</td><td>1</td><td>1</td><td>1</td><td>1</td><td>1</td><td>1</td><td>1</td><td>1</td><td>1</td><td>1</td><td>1</td><td>1</td><td>1</td><td>1</td><td>1</td><td>1</td><td>1</td><td>1</td><td>1</td><td>1</td><td>1</td><td>1</td><td>1</td><td>1</td><td>1</td><td>1</td><td>1</td><td>&hellip;</td><td>1</td><td>1</td><td>1</td><td>1</td><td>1</td><td>1</td><td>1</td><td>1</td><td>1</td><td>1</td><td>1</td><td>1</td><td>1</td><td>1</td><td>1</td><td>1</td><td>1</td><td>1</td><td>1</td><td>1</td><td>1</td><td>1</td><td>1</td><td>1</td><td>1</td><td>1</td><td>1</td><td>1</td><td>1</td><td>1</td><td>1</td><td>1</td><td>1</td><td>1</td><td>1</td><td>0</td><td>0</td></tr><tr><td>&quot;76561198088873…</td><td>1</td><td>1</td><td>1</td><td>1</td><td>1</td><td>1</td><td>1</td><td>1</td><td>1</td><td>1</td><td>1</td><td>1</td><td>1</td><td>1</td><td>1</td><td>1</td><td>1</td><td>1</td><td>1</td><td>1</td><td>1</td><td>1</td><td>1</td><td>1</td><td>1</td><td>1</td><td>1</td><td>1</td><td>1</td><td>1</td><td>1</td><td>1</td><td>1</td><td>1</td><td>1</td><td>1</td><td>&hellip;</td><td>1</td><td>1</td><td>1</td><td>1</td><td>1</td><td>1</td><td>1</td><td>1</td><td>1</td><td>1</td><td>1</td><td>1</td><td>1</td><td>1</td><td>1</td><td>1</td><td>1</td><td>1</td><td>1</td><td>1</td><td>1</td><td>1</td><td>1</td><td>1</td><td>1</td><td>1</td><td>1</td><td>1</td><td>1</td><td>1</td><td>1</td><td>1</td><td>1</td><td>1</td><td>1</td><td>0</td><td>0</td></tr><tr><td>&quot;76561197990979…</td><td>1</td><td>1</td><td>1</td><td>1</td><td>1</td><td>1</td><td>1</td><td>1</td><td>1</td><td>1</td><td>1</td><td>1</td><td>1</td><td>1</td><td>1</td><td>1</td><td>1</td><td>1</td><td>1</td><td>1</td><td>1</td><td>1</td><td>1</td><td>1</td><td>1</td><td>1</td><td>1</td><td>1</td><td>1</td><td>1</td><td>1</td><td>1</td><td>1</td><td>1</td><td>1</td><td>1</td><td>&hellip;</td><td>1</td><td>1</td><td>1</td><td>1</td><td>1</td><td>1</td><td>1</td><td>1</td><td>1</td><td>1</td><td>1</td><td>1</td><td>1</td><td>1</td><td>1</td><td>1</td><td>1</td><td>1</td><td>1</td><td>1</td><td>1</td><td>1</td><td>1</td><td>1</td><td>1</td><td>1</td><td>1</td><td>1</td><td>1</td><td>1</td><td>1</td><td>1</td><td>1</td><td>1</td><td>1</td><td>0</td><td>0</td></tr><tr><td>&quot;76561198139811…</td><td>1</td><td>1</td><td>1</td><td>1</td><td>1</td><td>1</td><td>1</td><td>1</td><td>1</td><td>1</td><td>1</td><td>1</td><td>1</td><td>1</td><td>1</td><td>1</td><td>1</td><td>1</td><td>1</td><td>1</td><td>1</td><td>1</td><td>1</td><td>1</td><td>1</td><td>1</td><td>1</td><td>1</td><td>1</td><td>1</td><td>1</td><td>1</td><td>1</td><td>1</td><td>1</td><td>1</td><td>&hellip;</td><td>1</td><td>1</td><td>1</td><td>1</td><td>1</td><td>1</td><td>1</td><td>1</td><td>1</td><td>1</td><td>1</td><td>1</td><td>1</td><td>1</td><td>1</td><td>1</td><td>1</td><td>1</td><td>1</td><td>1</td><td>1</td><td>1</td><td>1</td><td>1</td><td>1</td><td>1</td><td>1</td><td>1</td><td>1</td><td>1</td><td>1</td><td>1</td><td>1</td><td>1</td><td>1</td><td>0</td><td>0</td></tr><tr><td>&quot;76561198075234…</td><td>1</td><td>1</td><td>1</td><td>1</td><td>1</td><td>1</td><td>1</td><td>1</td><td>1</td><td>1</td><td>1</td><td>1</td><td>1</td><td>1</td><td>1</td><td>1</td><td>1</td><td>1</td><td>1</td><td>1</td><td>1</td><td>1</td><td>1</td><td>1</td><td>1</td><td>1</td><td>1</td><td>1</td><td>1</td><td>1</td><td>1</td><td>1</td><td>1</td><td>2</td><td>2</td><td>1</td><td>&hellip;</td><td>1</td><td>1</td><td>1</td><td>1</td><td>1</td><td>1</td><td>1</td><td>1</td><td>1</td><td>1</td><td>1</td><td>1</td><td>1</td><td>1</td><td>1</td><td>1</td><td>1</td><td>1</td><td>1</td><td>1</td><td>1</td><td>1</td><td>1</td><td>1</td><td>1</td><td>1</td><td>1</td><td>1</td><td>1</td><td>1</td><td>1</td><td>1</td><td>1</td><td>1</td><td>1</td><td>0</td><td>0</td></tr><tr><td>&quot;76561198044664…</td><td>1</td><td>1</td><td>1</td><td>1</td><td>1</td><td>1</td><td>1</td><td>1</td><td>1</td><td>1</td><td>1</td><td>1</td><td>1</td><td>1</td><td>1</td><td>1</td><td>1</td><td>1</td><td>1</td><td>1</td><td>1</td><td>1</td><td>1</td><td>1</td><td>1</td><td>1</td><td>1</td><td>1</td><td>1</td><td>1</td><td>1</td><td>1</td><td>1</td><td>1</td><td>1</td><td>1</td><td>&hellip;</td><td>1</td><td>1</td><td>1</td><td>1</td><td>1</td><td>1</td><td>1</td><td>1</td><td>1</td><td>1</td><td>1</td><td>1</td><td>1</td><td>1</td><td>1</td><td>1</td><td>1</td><td>1</td><td>1</td><td>1</td><td>1</td><td>1</td><td>1</td><td>1</td><td>1</td><td>1</td><td>1</td><td>1</td><td>1</td><td>1</td><td>1</td><td>1</td><td>1</td><td>1</td><td>1</td><td>0</td><td>0</td></tr><tr><td>&quot;76561198026460…</td><td>1</td><td>1</td><td>1</td><td>1</td><td>1</td><td>1</td><td>1</td><td>1</td><td>1</td><td>1</td><td>1</td><td>1</td><td>1</td><td>1</td><td>1</td><td>1</td><td>1</td><td>1</td><td>1</td><td>1</td><td>1</td><td>1</td><td>1</td><td>1</td><td>1</td><td>1</td><td>1</td><td>1</td><td>1</td><td>1</td><td>1</td><td>1</td><td>1</td><td>1</td><td>1</td><td>1</td><td>&hellip;</td><td>1</td><td>1</td><td>1</td><td>1</td><td>1</td><td>1</td><td>1</td><td>1</td><td>1</td><td>1</td><td>1</td><td>1</td><td>1</td><td>1</td><td>1</td><td>1</td><td>1</td><td>1</td><td>1</td><td>1</td><td>1</td><td>1</td><td>1</td><td>1</td><td>1</td><td>1</td><td>1</td><td>1</td><td>1</td><td>1</td><td>1</td><td>1</td><td>1</td><td>1</td><td>1</td><td>0</td><td>0</td></tr><tr><td>&quot;45979&quot;</td><td>1</td><td>1</td><td>1</td><td>1</td><td>1</td><td>1</td><td>1</td><td>1</td><td>1</td><td>1</td><td>1</td><td>1</td><td>1</td><td>1</td><td>1</td><td>1</td><td>1</td><td>1</td><td>1</td><td>1</td><td>1</td><td>1</td><td>1</td><td>1</td><td>1</td><td>1</td><td>1</td><td>1</td><td>1</td><td>1</td><td>1</td><td>1</td><td>1</td><td>1</td><td>1</td><td>1</td><td>&hellip;</td><td>1</td><td>1</td><td>1</td><td>1</td><td>1</td><td>1</td><td>1</td><td>1</td><td>1</td><td>1</td><td>1</td><td>1</td><td>1</td><td>1</td><td>1</td><td>1</td><td>1</td><td>1</td><td>1</td><td>1</td><td>1</td><td>1</td><td>1</td><td>1</td><td>1</td><td>1</td><td>1</td><td>1</td><td>1</td><td>1</td><td>1</td><td>1</td><td>1</td><td>1</td><td>1</td><td>0</td><td>0</td></tr><tr><td>&quot;mummbles1991&quot;</td><td>1</td><td>1</td><td>1</td><td>1</td><td>1</td><td>1</td><td>1</td><td>1</td><td>1</td><td>1</td><td>1</td><td>1</td><td>1</td><td>1</td><td>1</td><td>1</td><td>1</td><td>1</td><td>1</td><td>1</td><td>1</td><td>1</td><td>1</td><td>1</td><td>1</td><td>1</td><td>1</td><td>1</td><td>1</td><td>1</td><td>1</td><td>1</td><td>1</td><td>1</td><td>1</td><td>1</td><td>&hellip;</td><td>1</td><td>1</td><td>1</td><td>1</td><td>1</td><td>1</td><td>1</td><td>1</td><td>1</td><td>1</td><td>1</td><td>1</td><td>1</td><td>1</td><td>1</td><td>1</td><td>1</td><td>1</td><td>1</td><td>1</td><td>1</td><td>1</td><td>1</td><td>1</td><td>1</td><td>1</td><td>1</td><td>1</td><td>1</td><td>1</td><td>1</td><td>1</td><td>1</td><td>1</td><td>1</td><td>0</td><td>0</td></tr><tr><td>&quot;76561198130721…</td><td>1</td><td>1</td><td>1</td><td>1</td><td>1</td><td>1</td><td>1</td><td>1</td><td>1</td><td>1</td><td>1</td><td>1</td><td>1</td><td>1</td><td>1</td><td>1</td><td>1</td><td>1</td><td>1</td><td>1</td><td>1</td><td>1</td><td>1</td><td>1</td><td>1</td><td>1</td><td>1</td><td>1</td><td>1</td><td>1</td><td>1</td><td>1</td><td>1</td><td>1</td><td>1</td><td>1</td><td>&hellip;</td><td>1</td><td>1</td><td>1</td><td>1</td><td>1</td><td>1</td><td>1</td><td>1</td><td>1</td><td>1</td><td>1</td><td>1</td><td>1</td><td>1</td><td>1</td><td>1</td><td>1</td><td>1</td><td>1</td><td>1</td><td>1</td><td>1</td><td>1</td><td>1</td><td>1</td><td>1</td><td>1</td><td>1</td><td>1</td><td>1</td><td>1</td><td>1</td><td>1</td><td>1</td><td>1</td><td>0</td><td>0</td></tr><tr><td>&quot;76561198070982…</td><td>1</td><td>1</td><td>1</td><td>1</td><td>1</td><td>1</td><td>1</td><td>1</td><td>1</td><td>1</td><td>1</td><td>1</td><td>1</td><td>1</td><td>1</td><td>1</td><td>1</td><td>1</td><td>1</td><td>1</td><td>1</td><td>1</td><td>1</td><td>1</td><td>1</td><td>1</td><td>1</td><td>1</td><td>1</td><td>1</td><td>1</td><td>1</td><td>1</td><td>1</td><td>1</td><td>1</td><td>&hellip;</td><td>1</td><td>1</td><td>1</td><td>1</td><td>1</td><td>1</td><td>1</td><td>1</td><td>1</td><td>1</td><td>1</td><td>1</td><td>1</td><td>1</td><td>1</td><td>1</td><td>1</td><td>1</td><td>1</td><td>1</td><td>1</td><td>1</td><td>1</td><td>1</td><td>1</td><td>1</td><td>1</td><td>1</td><td>1</td><td>1</td><td>1</td><td>1</td><td>1</td><td>1</td><td>1</td><td>0</td><td>0</td></tr><tr><td>&quot;76561198090813…</td><td>1</td><td>1</td><td>1</td><td>1</td><td>1</td><td>1</td><td>1</td><td>1</td><td>1</td><td>1</td><td>1</td><td>1</td><td>1</td><td>1</td><td>1</td><td>1</td><td>1</td><td>1</td><td>1</td><td>1</td><td>1</td><td>1</td><td>1</td><td>1</td><td>1</td><td>1</td><td>1</td><td>1</td><td>1</td><td>1</td><td>1</td><td>1</td><td>1</td><td>1</td><td>1</td><td>1</td><td>&hellip;</td><td>1</td><td>1</td><td>1</td><td>1</td><td>1</td><td>1</td><td>1</td><td>1</td><td>1</td><td>1</td><td>1</td><td>1</td><td>1</td><td>1</td><td>1</td><td>1</td><td>1</td><td>1</td><td>1</td><td>1</td><td>1</td><td>1</td><td>1</td><td>1</td><td>1</td><td>1</td><td>1</td><td>1</td><td>1</td><td>1</td><td>1</td><td>1</td><td>1</td><td>1</td><td>1</td><td>0</td><td>0</td></tr><tr><td>&hellip;</td><td>&hellip;</td><td>&hellip;</td><td>&hellip;</td><td>&hellip;</td><td>&hellip;</td><td>&hellip;</td><td>&hellip;</td><td>&hellip;</td><td>&hellip;</td><td>&hellip;</td><td>&hellip;</td><td>&hellip;</td><td>&hellip;</td><td>&hellip;</td><td>&hellip;</td><td>&hellip;</td><td>&hellip;</td><td>&hellip;</td><td>&hellip;</td><td>&hellip;</td><td>&hellip;</td><td>&hellip;</td><td>&hellip;</td><td>&hellip;</td><td>&hellip;</td><td>&hellip;</td><td>&hellip;</td><td>&hellip;</td><td>&hellip;</td><td>&hellip;</td><td>&hellip;</td><td>&hellip;</td><td>&hellip;</td><td>&hellip;</td><td>&hellip;</td><td>&hellip;</td><td>&hellip;</td><td>&hellip;</td><td>&hellip;</td><td>&hellip;</td><td>&hellip;</td><td>&hellip;</td><td>&hellip;</td><td>&hellip;</td><td>&hellip;</td><td>&hellip;</td><td>&hellip;</td><td>&hellip;</td><td>&hellip;</td><td>&hellip;</td><td>&hellip;</td><td>&hellip;</td><td>&hellip;</td><td>&hellip;</td><td>&hellip;</td><td>&hellip;</td><td>&hellip;</td><td>&hellip;</td><td>&hellip;</td><td>&hellip;</td><td>&hellip;</td><td>&hellip;</td><td>&hellip;</td><td>&hellip;</td><td>&hellip;</td><td>&hellip;</td><td>&hellip;</td><td>&hellip;</td><td>&hellip;</td><td>&hellip;</td><td>&hellip;</td><td>&hellip;</td><td>&hellip;</td><td>&hellip;</td></tr><tr><td>&quot;76561198042305…</td><td>1</td><td>1</td><td>1</td><td>1</td><td>1</td><td>1</td><td>1</td><td>1</td><td>1</td><td>1</td><td>1</td><td>1</td><td>1</td><td>1</td><td>1</td><td>1</td><td>1</td><td>1</td><td>1</td><td>1</td><td>1</td><td>1</td><td>1</td><td>1</td><td>1</td><td>1</td><td>1</td><td>1</td><td>1</td><td>1</td><td>1</td><td>1</td><td>1</td><td>0</td><td>1</td><td>1</td><td>&hellip;</td><td>1</td><td>1</td><td>1</td><td>1</td><td>1</td><td>1</td><td>1</td><td>1</td><td>1</td><td>1</td><td>1</td><td>1</td><td>1</td><td>1</td><td>1</td><td>1</td><td>1</td><td>1</td><td>1</td><td>1</td><td>1</td><td>1</td><td>1</td><td>1</td><td>1</td><td>1</td><td>1</td><td>1</td><td>1</td><td>1</td><td>1</td><td>1</td><td>1</td><td>1</td><td>1</td><td>0</td><td>0</td></tr><tr><td>&quot;raegmoar&quot;</td><td>1</td><td>1</td><td>1</td><td>1</td><td>1</td><td>1</td><td>1</td><td>1</td><td>1</td><td>1</td><td>1</td><td>1</td><td>1</td><td>1</td><td>1</td><td>1</td><td>1</td><td>1</td><td>1</td><td>1</td><td>1</td><td>1</td><td>1</td><td>1</td><td>1</td><td>1</td><td>1</td><td>1</td><td>1</td><td>1</td><td>1</td><td>1</td><td>1</td><td>1</td><td>1</td><td>1</td><td>&hellip;</td><td>1</td><td>1</td><td>1</td><td>1</td><td>1</td><td>1</td><td>1</td><td>1</td><td>1</td><td>1</td><td>1</td><td>1</td><td>1</td><td>1</td><td>1</td><td>1</td><td>1</td><td>1</td><td>1</td><td>1</td><td>1</td><td>1</td><td>1</td><td>1</td><td>1</td><td>1</td><td>1</td><td>1</td><td>1</td><td>1</td><td>1</td><td>1</td><td>1</td><td>1</td><td>1</td><td>0</td><td>0</td></tr><tr><td>&quot;76561198094586…</td><td>1</td><td>1</td><td>1</td><td>1</td><td>1</td><td>1</td><td>1</td><td>1</td><td>1</td><td>1</td><td>1</td><td>1</td><td>1</td><td>1</td><td>1</td><td>1</td><td>1</td><td>1</td><td>1</td><td>1</td><td>1</td><td>1</td><td>1</td><td>1</td><td>1</td><td>1</td><td>1</td><td>1</td><td>1</td><td>1</td><td>1</td><td>1</td><td>1</td><td>1</td><td>1</td><td>1</td><td>&hellip;</td><td>1</td><td>1</td><td>1</td><td>1</td><td>1</td><td>1</td><td>1</td><td>1</td><td>1</td><td>1</td><td>1</td><td>1</td><td>1</td><td>1</td><td>1</td><td>1</td><td>1</td><td>1</td><td>1</td><td>1</td><td>1</td><td>1</td><td>1</td><td>1</td><td>1</td><td>1</td><td>1</td><td>1</td><td>1</td><td>1</td><td>1</td><td>1</td><td>1</td><td>1</td><td>1</td><td>0</td><td>0</td></tr><tr><td>&quot;ripvision&quot;</td><td>1</td><td>1</td><td>1</td><td>1</td><td>1</td><td>1</td><td>1</td><td>1</td><td>1</td><td>1</td><td>1</td><td>1</td><td>1</td><td>1</td><td>1</td><td>1</td><td>1</td><td>1</td><td>1</td><td>1</td><td>1</td><td>1</td><td>1</td><td>1</td><td>1</td><td>1</td><td>1</td><td>1</td><td>1</td><td>1</td><td>1</td><td>1</td><td>1</td><td>1</td><td>1</td><td>1</td><td>&hellip;</td><td>1</td><td>1</td><td>1</td><td>1</td><td>1</td><td>1</td><td>1</td><td>1</td><td>1</td><td>1</td><td>1</td><td>1</td><td>1</td><td>1</td><td>1</td><td>1</td><td>1</td><td>1</td><td>1</td><td>1</td><td>1</td><td>1</td><td>1</td><td>1</td><td>1</td><td>1</td><td>1</td><td>1</td><td>1</td><td>1</td><td>1</td><td>1</td><td>1</td><td>1</td><td>1</td><td>0</td><td>0</td></tr><tr><td>&quot;76561198060767…</td><td>1</td><td>1</td><td>1</td><td>1</td><td>1</td><td>1</td><td>1</td><td>1</td><td>1</td><td>1</td><td>1</td><td>1</td><td>1</td><td>1</td><td>1</td><td>1</td><td>1</td><td>1</td><td>1</td><td>1</td><td>1</td><td>1</td><td>1</td><td>1</td><td>1</td><td>1</td><td>1</td><td>1</td><td>1</td><td>1</td><td>1</td><td>1</td><td>1</td><td>1</td><td>1</td><td>1</td><td>&hellip;</td><td>1</td><td>1</td><td>1</td><td>1</td><td>1</td><td>1</td><td>1</td><td>1</td><td>1</td><td>1</td><td>1</td><td>1</td><td>1</td><td>1</td><td>1</td><td>1</td><td>1</td><td>1</td><td>1</td><td>1</td><td>1</td><td>1</td><td>1</td><td>1</td><td>1</td><td>1</td><td>1</td><td>1</td><td>1</td><td>1</td><td>1</td><td>1</td><td>1</td><td>1</td><td>1</td><td>0</td><td>0</td></tr><tr><td>&quot;ImWatchingYouF…</td><td>1</td><td>1</td><td>1</td><td>1</td><td>1</td><td>1</td><td>1</td><td>1</td><td>1</td><td>1</td><td>1</td><td>1</td><td>1</td><td>1</td><td>1</td><td>1</td><td>1</td><td>1</td><td>1</td><td>1</td><td>1</td><td>1</td><td>1</td><td>1</td><td>1</td><td>1</td><td>1</td><td>1</td><td>1</td><td>1</td><td>1</td><td>1</td><td>1</td><td>1</td><td>1</td><td>1</td><td>&hellip;</td><td>1</td><td>1</td><td>1</td><td>1</td><td>1</td><td>1</td><td>1</td><td>1</td><td>1</td><td>1</td><td>1</td><td>1</td><td>1</td><td>1</td><td>1</td><td>1</td><td>1</td><td>1</td><td>1</td><td>1</td><td>1</td><td>1</td><td>1</td><td>1</td><td>1</td><td>1</td><td>1</td><td>1</td><td>1</td><td>1</td><td>1</td><td>1</td><td>1</td><td>1</td><td>1</td><td>0</td><td>0</td></tr><tr><td>&quot;76561198068911…</td><td>1</td><td>1</td><td>1</td><td>1</td><td>1</td><td>1</td><td>1</td><td>1</td><td>1</td><td>1</td><td>1</td><td>1</td><td>1</td><td>1</td><td>1</td><td>1</td><td>1</td><td>1</td><td>1</td><td>1</td><td>1</td><td>1</td><td>1</td><td>1</td><td>1</td><td>1</td><td>1</td><td>1</td><td>1</td><td>1</td><td>1</td><td>1</td><td>1</td><td>1</td><td>1</td><td>1</td><td>&hellip;</td><td>1</td><td>1</td><td>1</td><td>1</td><td>1</td><td>1</td><td>1</td><td>1</td><td>1</td><td>1</td><td>1</td><td>1</td><td>1</td><td>1</td><td>1</td><td>1</td><td>1</td><td>1</td><td>1</td><td>1</td><td>1</td><td>1</td><td>1</td><td>1</td><td>1</td><td>1</td><td>1</td><td>1</td><td>1</td><td>1</td><td>1</td><td>1</td><td>1</td><td>1</td><td>1</td><td>0</td><td>0</td></tr><tr><td>&quot;ezratm14&quot;</td><td>1</td><td>1</td><td>1</td><td>1</td><td>1</td><td>1</td><td>1</td><td>1</td><td>1</td><td>1</td><td>1</td><td>1</td><td>1</td><td>1</td><td>1</td><td>1</td><td>1</td><td>1</td><td>1</td><td>2</td><td>1</td><td>1</td><td>1</td><td>1</td><td>1</td><td>1</td><td>1</td><td>1</td><td>1</td><td>2</td><td>1</td><td>1</td><td>1</td><td>1</td><td>1</td><td>1</td><td>&hellip;</td><td>1</td><td>1</td><td>1</td><td>1</td><td>1</td><td>1</td><td>1</td><td>1</td><td>1</td><td>1</td><td>1</td><td>1</td><td>1</td><td>1</td><td>1</td><td>1</td><td>1</td><td>1</td><td>1</td><td>1</td><td>1</td><td>1</td><td>1</td><td>1</td><td>1</td><td>1</td><td>1</td><td>1</td><td>1</td><td>1</td><td>1</td><td>1</td><td>1</td><td>1</td><td>1</td><td>0</td><td>0</td></tr><tr><td>&quot;76561198073784…</td><td>1</td><td>1</td><td>1</td><td>1</td><td>1</td><td>1</td><td>1</td><td>1</td><td>1</td><td>1</td><td>1</td><td>1</td><td>1</td><td>1</td><td>1</td><td>1</td><td>1</td><td>1</td><td>1</td><td>1</td><td>1</td><td>1</td><td>1</td><td>1</td><td>1</td><td>1</td><td>2</td><td>1</td><td>1</td><td>1</td><td>1</td><td>1</td><td>1</td><td>1</td><td>1</td><td>1</td><td>&hellip;</td><td>1</td><td>1</td><td>1</td><td>1</td><td>1</td><td>1</td><td>1</td><td>1</td><td>1</td><td>1</td><td>1</td><td>1</td><td>1</td><td>1</td><td>1</td><td>1</td><td>1</td><td>1</td><td>1</td><td>1</td><td>1</td><td>1</td><td>1</td><td>1</td><td>1</td><td>1</td><td>1</td><td>1</td><td>1</td><td>1</td><td>1</td><td>1</td><td>1</td><td>1</td><td>1</td><td>0</td><td>0</td></tr><tr><td>&quot;76561198096360…</td><td>1</td><td>1</td><td>1</td><td>1</td><td>1</td><td>1</td><td>1</td><td>1</td><td>1</td><td>1</td><td>1</td><td>1</td><td>1</td><td>1</td><td>1</td><td>1</td><td>1</td><td>1</td><td>1</td><td>1</td><td>1</td><td>1</td><td>1</td><td>1</td><td>1</td><td>1</td><td>1</td><td>1</td><td>1</td><td>1</td><td>1</td><td>1</td><td>1</td><td>1</td><td>1</td><td>1</td><td>&hellip;</td><td>1</td><td>1</td><td>1</td><td>1</td><td>1</td><td>1</td><td>1</td><td>1</td><td>1</td><td>1</td><td>1</td><td>1</td><td>1</td><td>1</td><td>1</td><td>1</td><td>1</td><td>1</td><td>1</td><td>1</td><td>1</td><td>1</td><td>1</td><td>1</td><td>1</td><td>1</td><td>1</td><td>1</td><td>1</td><td>1</td><td>1</td><td>1</td><td>1</td><td>1</td><td>1</td><td>0</td><td>0</td></tr><tr><td>&quot;76561198085015…</td><td>1</td><td>1</td><td>1</td><td>1</td><td>1</td><td>1</td><td>1</td><td>1</td><td>1</td><td>1</td><td>1</td><td>1</td><td>1</td><td>1</td><td>1</td><td>1</td><td>1</td><td>1</td><td>1</td><td>1</td><td>1</td><td>1</td><td>1</td><td>1</td><td>1</td><td>1</td><td>1</td><td>1</td><td>1</td><td>1</td><td>1</td><td>1</td><td>1</td><td>1</td><td>1</td><td>1</td><td>&hellip;</td><td>1</td><td>1</td><td>1</td><td>1</td><td>1</td><td>1</td><td>1</td><td>1</td><td>1</td><td>1</td><td>1</td><td>1</td><td>1</td><td>1</td><td>1</td><td>1</td><td>1</td><td>1</td><td>1</td><td>1</td><td>1</td><td>1</td><td>1</td><td>1</td><td>1</td><td>1</td><td>1</td><td>1</td><td>1</td><td>1</td><td>1</td><td>1</td><td>1</td><td>1</td><td>1</td><td>0</td><td>0</td></tr><tr><td>&quot;76561198038098…</td><td>1</td><td>1</td><td>1</td><td>1</td><td>1</td><td>1</td><td>1</td><td>1</td><td>1</td><td>1</td><td>1</td><td>1</td><td>1</td><td>1</td><td>1</td><td>1</td><td>1</td><td>1</td><td>1</td><td>1</td><td>1</td><td>1</td><td>1</td><td>1</td><td>1</td><td>1</td><td>1</td><td>1</td><td>1</td><td>1</td><td>1</td><td>1</td><td>1</td><td>1</td><td>1</td><td>1</td><td>&hellip;</td><td>1</td><td>1</td><td>1</td><td>1</td><td>1</td><td>1</td><td>1</td><td>1</td><td>1</td><td>1</td><td>1</td><td>1</td><td>1</td><td>1</td><td>1</td><td>1</td><td>1</td><td>1</td><td>1</td><td>1</td><td>1</td><td>1</td><td>1</td><td>1</td><td>1</td><td>1</td><td>1</td><td>1</td><td>1</td><td>1</td><td>1</td><td>1</td><td>1</td><td>1</td><td>1</td><td>0</td><td>0</td></tr></tbody></table></div>"
      ],
      "text/plain": [
       "shape: (5_354, 3_685)\n",
       "┌─────────────────┬──────┬───────┬───────┬───┬────────┬────────┬─────────────────┬─────────────────┐\n",
       "│ user_id         ┆ 1250 ┆ 22200 ┆ 43110 ┆ … ┆ 262850 ┆ 431510 ┆ total_playtime_ ┆ total_playtime_ │\n",
       "│ ---             ┆ ---  ┆ ---   ┆ ---   ┆   ┆ ---    ┆ ---    ┆ forever         ┆ 2weeks          │\n",
       "│ str             ┆ i32  ┆ i32   ┆ i32   ┆   ┆ i32    ┆ i32    ┆ ---             ┆ ---             │\n",
       "│                 ┆      ┆       ┆       ┆   ┆        ┆        ┆ i64             ┆ i64             │\n",
       "╞═════════════════╪══════╪═══════╪═══════╪═══╪════════╪════════╪═════════════════╪═════════════════╡\n",
       "│ Red_M           ┆ 1    ┆ 1     ┆ 1     ┆ … ┆ 1      ┆ 1      ┆ 0               ┆ 0               │\n",
       "│ 765611980888738 ┆ 1    ┆ 1     ┆ 1     ┆ … ┆ 1      ┆ 1      ┆ 0               ┆ 0               │\n",
       "│ 14              ┆      ┆       ┆       ┆   ┆        ┆        ┆                 ┆                 │\n",
       "│ 765611979909793 ┆ 1    ┆ 1     ┆ 1     ┆ … ┆ 1      ┆ 1      ┆ 0               ┆ 0               │\n",
       "│ 75              ┆      ┆       ┆       ┆   ┆        ┆        ┆                 ┆                 │\n",
       "│ 765611981398112 ┆ 1    ┆ 1     ┆ 1     ┆ … ┆ 1      ┆ 1      ┆ 0               ┆ 0               │\n",
       "│ 58              ┆      ┆       ┆       ┆   ┆        ┆        ┆                 ┆                 │\n",
       "│ 765611980752342 ┆ 1    ┆ 1     ┆ 1     ┆ … ┆ 1      ┆ 1      ┆ 0               ┆ 0               │\n",
       "│ 35              ┆      ┆       ┆       ┆   ┆        ┆        ┆                 ┆                 │\n",
       "│ …               ┆ …    ┆ …     ┆ …     ┆ … ┆ …      ┆ …      ┆ …               ┆ …               │\n",
       "│ ezratm14        ┆ 1    ┆ 1     ┆ 1     ┆ … ┆ 1      ┆ 1      ┆ 0               ┆ 0               │\n",
       "│ 765611980737843 ┆ 1    ┆ 1     ┆ 1     ┆ … ┆ 1      ┆ 1      ┆ 0               ┆ 0               │\n",
       "│ 30              ┆      ┆       ┆       ┆   ┆        ┆        ┆                 ┆                 │\n",
       "│ 765611980963606 ┆ 1    ┆ 1     ┆ 1     ┆ … ┆ 1      ┆ 1      ┆ 0               ┆ 0               │\n",
       "│ 02              ┆      ┆       ┆       ┆   ┆        ┆        ┆                 ┆                 │\n",
       "│ 765611980850150 ┆ 1    ┆ 1     ┆ 1     ┆ … ┆ 1      ┆ 1      ┆ 0               ┆ 0               │\n",
       "│ 81              ┆      ┆       ┆       ┆   ┆        ┆        ┆                 ┆                 │\n",
       "│ 765611980380986 ┆ 1    ┆ 1     ┆ 1     ┆ … ┆ 1      ┆ 1      ┆ 0               ┆ 0               │\n",
       "│ 65              ┆      ┆       ┆       ┆   ┆        ┆        ┆                 ┆                 │\n",
       "└─────────────────┴──────┴───────┴───────┴───┴────────┴────────┴─────────────────┴─────────────────┘"
      ]
     },
     "execution_count": 30,
     "metadata": {},
     "output_type": "execute_result"
    }
   ],
   "source": [
    "df_final.filter(df_final['total_playtime_forever'] == 0)"
   ]
  },
  {
   "cell_type": "code",
   "execution_count": 31,
   "metadata": {},
   "outputs": [],
   "source": [
    "df_final = df_final.with_columns([\n",
    "    pl.col('total_playtime_forever') / 60,\n",
    "    pl.col('total_playtime_2weeks') / 60\n",
    "])"
   ]
  },
  {
   "cell_type": "code",
   "execution_count": 32,
   "metadata": {},
   "outputs": [
    {
     "data": {
      "text/html": [
       "<div><style>\n",
       ".dataframe > thead > tr,\n",
       ".dataframe > tbody > tr {\n",
       "  text-align: right;\n",
       "  white-space: pre-wrap;\n",
       "}\n",
       "</style>\n",
       "<small>shape: (5_354, 3_685)</small><table border=\"1\" class=\"dataframe\"><thead><tr><th>user_id</th><th>1250</th><th>22200</th><th>43110</th><th>251610</th><th>227300</th><th>239030</th><th>248820</th><th>370360</th><th>237930</th><th>263360</th><th>107200</th><th>224500</th><th>250320</th><th>20920</th><th>204100</th><th>224600</th><th>207610</th><th>108710</th><th>211420</th><th>211820</th><th>730</th><th>204300</th><th>249130</th><th>550</th><th>65800</th><th>220</th><th>72850</th><th>440</th><th>252950</th><th>304930</th><th>4000</th><th>42910</th><th>232090</th><th>570</th><th>218620</th><th>224260</th><th>&hellip;</th><th>225833</th><th>378660</th><th>242590</th><th>339910</th><th>61730</th><th>259410</th><th>318520</th><th>319970</th><th>378580</th><th>420930</th><th>349740</th><th>254130</th><th>274350</th><th>381020</th><th>358260</th><th>358340</th><th>358290</th><th>256500</th><th>431840</th><th>385890</th><th>203250</th><th>348670</th><th>385630</th><th>385980</th><th>369000</th><th>294230</th><th>367780</th><th>305920</th><th>306040</th><th>414390</th><th>307130</th><th>209120</th><th>220090</th><th>262850</th><th>431510</th><th>total_playtime_forever</th><th>total_playtime_2weeks</th></tr><tr><td>str</td><td>i32</td><td>i32</td><td>i32</td><td>i32</td><td>i32</td><td>i32</td><td>i32</td><td>i32</td><td>i32</td><td>i32</td><td>i32</td><td>i32</td><td>i32</td><td>i32</td><td>i32</td><td>i32</td><td>i32</td><td>i32</td><td>i32</td><td>i32</td><td>i32</td><td>i32</td><td>i32</td><td>i32</td><td>i32</td><td>i32</td><td>i32</td><td>i32</td><td>i32</td><td>i32</td><td>i32</td><td>i32</td><td>i32</td><td>i32</td><td>i32</td><td>i32</td><td>&hellip;</td><td>i32</td><td>i32</td><td>i32</td><td>i32</td><td>i32</td><td>i32</td><td>i32</td><td>i32</td><td>i32</td><td>i32</td><td>i32</td><td>i32</td><td>i32</td><td>i32</td><td>i32</td><td>i32</td><td>i32</td><td>i32</td><td>i32</td><td>i32</td><td>i32</td><td>i32</td><td>i32</td><td>i32</td><td>i32</td><td>i32</td><td>i32</td><td>i32</td><td>i32</td><td>i32</td><td>i32</td><td>i32</td><td>i32</td><td>i32</td><td>i32</td><td>f64</td><td>f64</td></tr></thead><tbody><tr><td>&quot;Red_M&quot;</td><td>1</td><td>1</td><td>1</td><td>1</td><td>1</td><td>1</td><td>1</td><td>1</td><td>1</td><td>1</td><td>1</td><td>1</td><td>1</td><td>1</td><td>1</td><td>1</td><td>1</td><td>1</td><td>1</td><td>1</td><td>1</td><td>1</td><td>1</td><td>1</td><td>1</td><td>1</td><td>1</td><td>1</td><td>1</td><td>1</td><td>1</td><td>1</td><td>1</td><td>1</td><td>1</td><td>1</td><td>&hellip;</td><td>1</td><td>1</td><td>1</td><td>1</td><td>1</td><td>1</td><td>1</td><td>1</td><td>1</td><td>1</td><td>1</td><td>1</td><td>1</td><td>1</td><td>1</td><td>1</td><td>1</td><td>1</td><td>1</td><td>1</td><td>1</td><td>1</td><td>1</td><td>1</td><td>1</td><td>1</td><td>1</td><td>1</td><td>1</td><td>1</td><td>1</td><td>1</td><td>1</td><td>1</td><td>1</td><td>0.0</td><td>0.0</td></tr><tr><td>&quot;76561198088873…</td><td>1</td><td>1</td><td>1</td><td>1</td><td>1</td><td>1</td><td>1</td><td>1</td><td>1</td><td>1</td><td>1</td><td>1</td><td>1</td><td>1</td><td>1</td><td>1</td><td>1</td><td>1</td><td>1</td><td>1</td><td>1</td><td>1</td><td>1</td><td>1</td><td>1</td><td>1</td><td>1</td><td>1</td><td>1</td><td>1</td><td>1</td><td>1</td><td>1</td><td>1</td><td>1</td><td>1</td><td>&hellip;</td><td>1</td><td>1</td><td>1</td><td>1</td><td>1</td><td>1</td><td>1</td><td>1</td><td>1</td><td>1</td><td>1</td><td>1</td><td>1</td><td>1</td><td>1</td><td>1</td><td>1</td><td>1</td><td>1</td><td>1</td><td>1</td><td>1</td><td>1</td><td>1</td><td>1</td><td>1</td><td>1</td><td>1</td><td>1</td><td>1</td><td>1</td><td>1</td><td>1</td><td>1</td><td>1</td><td>0.0</td><td>0.0</td></tr><tr><td>&quot;76561197990979…</td><td>1</td><td>1</td><td>1</td><td>1</td><td>1</td><td>1</td><td>1</td><td>1</td><td>1</td><td>1</td><td>1</td><td>1</td><td>1</td><td>1</td><td>1</td><td>1</td><td>1</td><td>1</td><td>1</td><td>1</td><td>1</td><td>1</td><td>1</td><td>1</td><td>1</td><td>1</td><td>1</td><td>1</td><td>1</td><td>1</td><td>1</td><td>1</td><td>1</td><td>1</td><td>1</td><td>1</td><td>&hellip;</td><td>1</td><td>1</td><td>1</td><td>1</td><td>1</td><td>1</td><td>1</td><td>1</td><td>1</td><td>1</td><td>1</td><td>1</td><td>1</td><td>1</td><td>1</td><td>1</td><td>1</td><td>1</td><td>1</td><td>1</td><td>1</td><td>1</td><td>1</td><td>1</td><td>1</td><td>1</td><td>1</td><td>1</td><td>1</td><td>1</td><td>1</td><td>1</td><td>1</td><td>1</td><td>1</td><td>0.0</td><td>0.0</td></tr><tr><td>&quot;76561198139811…</td><td>1</td><td>1</td><td>1</td><td>1</td><td>1</td><td>1</td><td>1</td><td>1</td><td>1</td><td>1</td><td>1</td><td>1</td><td>1</td><td>1</td><td>1</td><td>1</td><td>1</td><td>1</td><td>1</td><td>1</td><td>1</td><td>1</td><td>1</td><td>1</td><td>1</td><td>1</td><td>1</td><td>1</td><td>1</td><td>1</td><td>1</td><td>1</td><td>1</td><td>1</td><td>1</td><td>1</td><td>&hellip;</td><td>1</td><td>1</td><td>1</td><td>1</td><td>1</td><td>1</td><td>1</td><td>1</td><td>1</td><td>1</td><td>1</td><td>1</td><td>1</td><td>1</td><td>1</td><td>1</td><td>1</td><td>1</td><td>1</td><td>1</td><td>1</td><td>1</td><td>1</td><td>1</td><td>1</td><td>1</td><td>1</td><td>1</td><td>1</td><td>1</td><td>1</td><td>1</td><td>1</td><td>1</td><td>1</td><td>0.0</td><td>0.0</td></tr><tr><td>&quot;76561198075234…</td><td>1</td><td>1</td><td>1</td><td>1</td><td>1</td><td>1</td><td>1</td><td>1</td><td>1</td><td>1</td><td>1</td><td>1</td><td>1</td><td>1</td><td>1</td><td>1</td><td>1</td><td>1</td><td>1</td><td>1</td><td>1</td><td>1</td><td>1</td><td>1</td><td>1</td><td>1</td><td>1</td><td>1</td><td>1</td><td>1</td><td>1</td><td>1</td><td>1</td><td>2</td><td>2</td><td>1</td><td>&hellip;</td><td>1</td><td>1</td><td>1</td><td>1</td><td>1</td><td>1</td><td>1</td><td>1</td><td>1</td><td>1</td><td>1</td><td>1</td><td>1</td><td>1</td><td>1</td><td>1</td><td>1</td><td>1</td><td>1</td><td>1</td><td>1</td><td>1</td><td>1</td><td>1</td><td>1</td><td>1</td><td>1</td><td>1</td><td>1</td><td>1</td><td>1</td><td>1</td><td>1</td><td>1</td><td>1</td><td>0.0</td><td>0.0</td></tr><tr><td>&quot;76561198044664…</td><td>1</td><td>1</td><td>1</td><td>1</td><td>1</td><td>1</td><td>1</td><td>1</td><td>1</td><td>1</td><td>1</td><td>1</td><td>1</td><td>1</td><td>1</td><td>1</td><td>1</td><td>1</td><td>1</td><td>1</td><td>1</td><td>1</td><td>1</td><td>1</td><td>1</td><td>1</td><td>1</td><td>1</td><td>1</td><td>1</td><td>1</td><td>1</td><td>1</td><td>1</td><td>1</td><td>1</td><td>&hellip;</td><td>1</td><td>1</td><td>1</td><td>1</td><td>1</td><td>1</td><td>1</td><td>1</td><td>1</td><td>1</td><td>1</td><td>1</td><td>1</td><td>1</td><td>1</td><td>1</td><td>1</td><td>1</td><td>1</td><td>1</td><td>1</td><td>1</td><td>1</td><td>1</td><td>1</td><td>1</td><td>1</td><td>1</td><td>1</td><td>1</td><td>1</td><td>1</td><td>1</td><td>1</td><td>1</td><td>0.0</td><td>0.0</td></tr><tr><td>&quot;76561198026460…</td><td>1</td><td>1</td><td>1</td><td>1</td><td>1</td><td>1</td><td>1</td><td>1</td><td>1</td><td>1</td><td>1</td><td>1</td><td>1</td><td>1</td><td>1</td><td>1</td><td>1</td><td>1</td><td>1</td><td>1</td><td>1</td><td>1</td><td>1</td><td>1</td><td>1</td><td>1</td><td>1</td><td>1</td><td>1</td><td>1</td><td>1</td><td>1</td><td>1</td><td>1</td><td>1</td><td>1</td><td>&hellip;</td><td>1</td><td>1</td><td>1</td><td>1</td><td>1</td><td>1</td><td>1</td><td>1</td><td>1</td><td>1</td><td>1</td><td>1</td><td>1</td><td>1</td><td>1</td><td>1</td><td>1</td><td>1</td><td>1</td><td>1</td><td>1</td><td>1</td><td>1</td><td>1</td><td>1</td><td>1</td><td>1</td><td>1</td><td>1</td><td>1</td><td>1</td><td>1</td><td>1</td><td>1</td><td>1</td><td>0.0</td><td>0.0</td></tr><tr><td>&quot;45979&quot;</td><td>1</td><td>1</td><td>1</td><td>1</td><td>1</td><td>1</td><td>1</td><td>1</td><td>1</td><td>1</td><td>1</td><td>1</td><td>1</td><td>1</td><td>1</td><td>1</td><td>1</td><td>1</td><td>1</td><td>1</td><td>1</td><td>1</td><td>1</td><td>1</td><td>1</td><td>1</td><td>1</td><td>1</td><td>1</td><td>1</td><td>1</td><td>1</td><td>1</td><td>1</td><td>1</td><td>1</td><td>&hellip;</td><td>1</td><td>1</td><td>1</td><td>1</td><td>1</td><td>1</td><td>1</td><td>1</td><td>1</td><td>1</td><td>1</td><td>1</td><td>1</td><td>1</td><td>1</td><td>1</td><td>1</td><td>1</td><td>1</td><td>1</td><td>1</td><td>1</td><td>1</td><td>1</td><td>1</td><td>1</td><td>1</td><td>1</td><td>1</td><td>1</td><td>1</td><td>1</td><td>1</td><td>1</td><td>1</td><td>0.0</td><td>0.0</td></tr><tr><td>&quot;mummbles1991&quot;</td><td>1</td><td>1</td><td>1</td><td>1</td><td>1</td><td>1</td><td>1</td><td>1</td><td>1</td><td>1</td><td>1</td><td>1</td><td>1</td><td>1</td><td>1</td><td>1</td><td>1</td><td>1</td><td>1</td><td>1</td><td>1</td><td>1</td><td>1</td><td>1</td><td>1</td><td>1</td><td>1</td><td>1</td><td>1</td><td>1</td><td>1</td><td>1</td><td>1</td><td>1</td><td>1</td><td>1</td><td>&hellip;</td><td>1</td><td>1</td><td>1</td><td>1</td><td>1</td><td>1</td><td>1</td><td>1</td><td>1</td><td>1</td><td>1</td><td>1</td><td>1</td><td>1</td><td>1</td><td>1</td><td>1</td><td>1</td><td>1</td><td>1</td><td>1</td><td>1</td><td>1</td><td>1</td><td>1</td><td>1</td><td>1</td><td>1</td><td>1</td><td>1</td><td>1</td><td>1</td><td>1</td><td>1</td><td>1</td><td>0.0</td><td>0.0</td></tr><tr><td>&quot;76561198130721…</td><td>1</td><td>1</td><td>1</td><td>1</td><td>1</td><td>1</td><td>1</td><td>1</td><td>1</td><td>1</td><td>1</td><td>1</td><td>1</td><td>1</td><td>1</td><td>1</td><td>1</td><td>1</td><td>1</td><td>1</td><td>1</td><td>1</td><td>1</td><td>1</td><td>1</td><td>1</td><td>1</td><td>1</td><td>1</td><td>1</td><td>1</td><td>1</td><td>1</td><td>1</td><td>1</td><td>1</td><td>&hellip;</td><td>1</td><td>1</td><td>1</td><td>1</td><td>1</td><td>1</td><td>1</td><td>1</td><td>1</td><td>1</td><td>1</td><td>1</td><td>1</td><td>1</td><td>1</td><td>1</td><td>1</td><td>1</td><td>1</td><td>1</td><td>1</td><td>1</td><td>1</td><td>1</td><td>1</td><td>1</td><td>1</td><td>1</td><td>1</td><td>1</td><td>1</td><td>1</td><td>1</td><td>1</td><td>1</td><td>0.0</td><td>0.0</td></tr><tr><td>&quot;76561198070982…</td><td>1</td><td>1</td><td>1</td><td>1</td><td>1</td><td>1</td><td>1</td><td>1</td><td>1</td><td>1</td><td>1</td><td>1</td><td>1</td><td>1</td><td>1</td><td>1</td><td>1</td><td>1</td><td>1</td><td>1</td><td>1</td><td>1</td><td>1</td><td>1</td><td>1</td><td>1</td><td>1</td><td>1</td><td>1</td><td>1</td><td>1</td><td>1</td><td>1</td><td>1</td><td>1</td><td>1</td><td>&hellip;</td><td>1</td><td>1</td><td>1</td><td>1</td><td>1</td><td>1</td><td>1</td><td>1</td><td>1</td><td>1</td><td>1</td><td>1</td><td>1</td><td>1</td><td>1</td><td>1</td><td>1</td><td>1</td><td>1</td><td>1</td><td>1</td><td>1</td><td>1</td><td>1</td><td>1</td><td>1</td><td>1</td><td>1</td><td>1</td><td>1</td><td>1</td><td>1</td><td>1</td><td>1</td><td>1</td><td>0.0</td><td>0.0</td></tr><tr><td>&quot;76561198090813…</td><td>1</td><td>1</td><td>1</td><td>1</td><td>1</td><td>1</td><td>1</td><td>1</td><td>1</td><td>1</td><td>1</td><td>1</td><td>1</td><td>1</td><td>1</td><td>1</td><td>1</td><td>1</td><td>1</td><td>1</td><td>1</td><td>1</td><td>1</td><td>1</td><td>1</td><td>1</td><td>1</td><td>1</td><td>1</td><td>1</td><td>1</td><td>1</td><td>1</td><td>1</td><td>1</td><td>1</td><td>&hellip;</td><td>1</td><td>1</td><td>1</td><td>1</td><td>1</td><td>1</td><td>1</td><td>1</td><td>1</td><td>1</td><td>1</td><td>1</td><td>1</td><td>1</td><td>1</td><td>1</td><td>1</td><td>1</td><td>1</td><td>1</td><td>1</td><td>1</td><td>1</td><td>1</td><td>1</td><td>1</td><td>1</td><td>1</td><td>1</td><td>1</td><td>1</td><td>1</td><td>1</td><td>1</td><td>1</td><td>0.0</td><td>0.0</td></tr><tr><td>&hellip;</td><td>&hellip;</td><td>&hellip;</td><td>&hellip;</td><td>&hellip;</td><td>&hellip;</td><td>&hellip;</td><td>&hellip;</td><td>&hellip;</td><td>&hellip;</td><td>&hellip;</td><td>&hellip;</td><td>&hellip;</td><td>&hellip;</td><td>&hellip;</td><td>&hellip;</td><td>&hellip;</td><td>&hellip;</td><td>&hellip;</td><td>&hellip;</td><td>&hellip;</td><td>&hellip;</td><td>&hellip;</td><td>&hellip;</td><td>&hellip;</td><td>&hellip;</td><td>&hellip;</td><td>&hellip;</td><td>&hellip;</td><td>&hellip;</td><td>&hellip;</td><td>&hellip;</td><td>&hellip;</td><td>&hellip;</td><td>&hellip;</td><td>&hellip;</td><td>&hellip;</td><td>&hellip;</td><td>&hellip;</td><td>&hellip;</td><td>&hellip;</td><td>&hellip;</td><td>&hellip;</td><td>&hellip;</td><td>&hellip;</td><td>&hellip;</td><td>&hellip;</td><td>&hellip;</td><td>&hellip;</td><td>&hellip;</td><td>&hellip;</td><td>&hellip;</td><td>&hellip;</td><td>&hellip;</td><td>&hellip;</td><td>&hellip;</td><td>&hellip;</td><td>&hellip;</td><td>&hellip;</td><td>&hellip;</td><td>&hellip;</td><td>&hellip;</td><td>&hellip;</td><td>&hellip;</td><td>&hellip;</td><td>&hellip;</td><td>&hellip;</td><td>&hellip;</td><td>&hellip;</td><td>&hellip;</td><td>&hellip;</td><td>&hellip;</td><td>&hellip;</td><td>&hellip;</td><td>&hellip;</td></tr><tr><td>&quot;76561198042305…</td><td>1</td><td>1</td><td>1</td><td>1</td><td>1</td><td>1</td><td>1</td><td>1</td><td>1</td><td>1</td><td>1</td><td>1</td><td>1</td><td>1</td><td>1</td><td>1</td><td>1</td><td>1</td><td>1</td><td>1</td><td>1</td><td>1</td><td>1</td><td>1</td><td>1</td><td>1</td><td>1</td><td>1</td><td>1</td><td>1</td><td>1</td><td>1</td><td>1</td><td>0</td><td>1</td><td>1</td><td>&hellip;</td><td>1</td><td>1</td><td>1</td><td>1</td><td>1</td><td>1</td><td>1</td><td>1</td><td>1</td><td>1</td><td>1</td><td>1</td><td>1</td><td>1</td><td>1</td><td>1</td><td>1</td><td>1</td><td>1</td><td>1</td><td>1</td><td>1</td><td>1</td><td>1</td><td>1</td><td>1</td><td>1</td><td>1</td><td>1</td><td>1</td><td>1</td><td>1</td><td>1</td><td>1</td><td>1</td><td>0.0</td><td>0.0</td></tr><tr><td>&quot;raegmoar&quot;</td><td>1</td><td>1</td><td>1</td><td>1</td><td>1</td><td>1</td><td>1</td><td>1</td><td>1</td><td>1</td><td>1</td><td>1</td><td>1</td><td>1</td><td>1</td><td>1</td><td>1</td><td>1</td><td>1</td><td>1</td><td>1</td><td>1</td><td>1</td><td>1</td><td>1</td><td>1</td><td>1</td><td>1</td><td>1</td><td>1</td><td>1</td><td>1</td><td>1</td><td>1</td><td>1</td><td>1</td><td>&hellip;</td><td>1</td><td>1</td><td>1</td><td>1</td><td>1</td><td>1</td><td>1</td><td>1</td><td>1</td><td>1</td><td>1</td><td>1</td><td>1</td><td>1</td><td>1</td><td>1</td><td>1</td><td>1</td><td>1</td><td>1</td><td>1</td><td>1</td><td>1</td><td>1</td><td>1</td><td>1</td><td>1</td><td>1</td><td>1</td><td>1</td><td>1</td><td>1</td><td>1</td><td>1</td><td>1</td><td>0.0</td><td>0.0</td></tr><tr><td>&quot;76561198094586…</td><td>1</td><td>1</td><td>1</td><td>1</td><td>1</td><td>1</td><td>1</td><td>1</td><td>1</td><td>1</td><td>1</td><td>1</td><td>1</td><td>1</td><td>1</td><td>1</td><td>1</td><td>1</td><td>1</td><td>1</td><td>1</td><td>1</td><td>1</td><td>1</td><td>1</td><td>1</td><td>1</td><td>1</td><td>1</td><td>1</td><td>1</td><td>1</td><td>1</td><td>1</td><td>1</td><td>1</td><td>&hellip;</td><td>1</td><td>1</td><td>1</td><td>1</td><td>1</td><td>1</td><td>1</td><td>1</td><td>1</td><td>1</td><td>1</td><td>1</td><td>1</td><td>1</td><td>1</td><td>1</td><td>1</td><td>1</td><td>1</td><td>1</td><td>1</td><td>1</td><td>1</td><td>1</td><td>1</td><td>1</td><td>1</td><td>1</td><td>1</td><td>1</td><td>1</td><td>1</td><td>1</td><td>1</td><td>1</td><td>0.0</td><td>0.0</td></tr><tr><td>&quot;ripvision&quot;</td><td>1</td><td>1</td><td>1</td><td>1</td><td>1</td><td>1</td><td>1</td><td>1</td><td>1</td><td>1</td><td>1</td><td>1</td><td>1</td><td>1</td><td>1</td><td>1</td><td>1</td><td>1</td><td>1</td><td>1</td><td>1</td><td>1</td><td>1</td><td>1</td><td>1</td><td>1</td><td>1</td><td>1</td><td>1</td><td>1</td><td>1</td><td>1</td><td>1</td><td>1</td><td>1</td><td>1</td><td>&hellip;</td><td>1</td><td>1</td><td>1</td><td>1</td><td>1</td><td>1</td><td>1</td><td>1</td><td>1</td><td>1</td><td>1</td><td>1</td><td>1</td><td>1</td><td>1</td><td>1</td><td>1</td><td>1</td><td>1</td><td>1</td><td>1</td><td>1</td><td>1</td><td>1</td><td>1</td><td>1</td><td>1</td><td>1</td><td>1</td><td>1</td><td>1</td><td>1</td><td>1</td><td>1</td><td>1</td><td>0.0</td><td>0.0</td></tr><tr><td>&quot;76561198060767…</td><td>1</td><td>1</td><td>1</td><td>1</td><td>1</td><td>1</td><td>1</td><td>1</td><td>1</td><td>1</td><td>1</td><td>1</td><td>1</td><td>1</td><td>1</td><td>1</td><td>1</td><td>1</td><td>1</td><td>1</td><td>1</td><td>1</td><td>1</td><td>1</td><td>1</td><td>1</td><td>1</td><td>1</td><td>1</td><td>1</td><td>1</td><td>1</td><td>1</td><td>1</td><td>1</td><td>1</td><td>&hellip;</td><td>1</td><td>1</td><td>1</td><td>1</td><td>1</td><td>1</td><td>1</td><td>1</td><td>1</td><td>1</td><td>1</td><td>1</td><td>1</td><td>1</td><td>1</td><td>1</td><td>1</td><td>1</td><td>1</td><td>1</td><td>1</td><td>1</td><td>1</td><td>1</td><td>1</td><td>1</td><td>1</td><td>1</td><td>1</td><td>1</td><td>1</td><td>1</td><td>1</td><td>1</td><td>1</td><td>0.0</td><td>0.0</td></tr><tr><td>&quot;ImWatchingYouF…</td><td>1</td><td>1</td><td>1</td><td>1</td><td>1</td><td>1</td><td>1</td><td>1</td><td>1</td><td>1</td><td>1</td><td>1</td><td>1</td><td>1</td><td>1</td><td>1</td><td>1</td><td>1</td><td>1</td><td>1</td><td>1</td><td>1</td><td>1</td><td>1</td><td>1</td><td>1</td><td>1</td><td>1</td><td>1</td><td>1</td><td>1</td><td>1</td><td>1</td><td>1</td><td>1</td><td>1</td><td>&hellip;</td><td>1</td><td>1</td><td>1</td><td>1</td><td>1</td><td>1</td><td>1</td><td>1</td><td>1</td><td>1</td><td>1</td><td>1</td><td>1</td><td>1</td><td>1</td><td>1</td><td>1</td><td>1</td><td>1</td><td>1</td><td>1</td><td>1</td><td>1</td><td>1</td><td>1</td><td>1</td><td>1</td><td>1</td><td>1</td><td>1</td><td>1</td><td>1</td><td>1</td><td>1</td><td>1</td><td>0.0</td><td>0.0</td></tr><tr><td>&quot;76561198068911…</td><td>1</td><td>1</td><td>1</td><td>1</td><td>1</td><td>1</td><td>1</td><td>1</td><td>1</td><td>1</td><td>1</td><td>1</td><td>1</td><td>1</td><td>1</td><td>1</td><td>1</td><td>1</td><td>1</td><td>1</td><td>1</td><td>1</td><td>1</td><td>1</td><td>1</td><td>1</td><td>1</td><td>1</td><td>1</td><td>1</td><td>1</td><td>1</td><td>1</td><td>1</td><td>1</td><td>1</td><td>&hellip;</td><td>1</td><td>1</td><td>1</td><td>1</td><td>1</td><td>1</td><td>1</td><td>1</td><td>1</td><td>1</td><td>1</td><td>1</td><td>1</td><td>1</td><td>1</td><td>1</td><td>1</td><td>1</td><td>1</td><td>1</td><td>1</td><td>1</td><td>1</td><td>1</td><td>1</td><td>1</td><td>1</td><td>1</td><td>1</td><td>1</td><td>1</td><td>1</td><td>1</td><td>1</td><td>1</td><td>0.0</td><td>0.0</td></tr><tr><td>&quot;ezratm14&quot;</td><td>1</td><td>1</td><td>1</td><td>1</td><td>1</td><td>1</td><td>1</td><td>1</td><td>1</td><td>1</td><td>1</td><td>1</td><td>1</td><td>1</td><td>1</td><td>1</td><td>1</td><td>1</td><td>1</td><td>2</td><td>1</td><td>1</td><td>1</td><td>1</td><td>1</td><td>1</td><td>1</td><td>1</td><td>1</td><td>2</td><td>1</td><td>1</td><td>1</td><td>1</td><td>1</td><td>1</td><td>&hellip;</td><td>1</td><td>1</td><td>1</td><td>1</td><td>1</td><td>1</td><td>1</td><td>1</td><td>1</td><td>1</td><td>1</td><td>1</td><td>1</td><td>1</td><td>1</td><td>1</td><td>1</td><td>1</td><td>1</td><td>1</td><td>1</td><td>1</td><td>1</td><td>1</td><td>1</td><td>1</td><td>1</td><td>1</td><td>1</td><td>1</td><td>1</td><td>1</td><td>1</td><td>1</td><td>1</td><td>0.0</td><td>0.0</td></tr><tr><td>&quot;76561198073784…</td><td>1</td><td>1</td><td>1</td><td>1</td><td>1</td><td>1</td><td>1</td><td>1</td><td>1</td><td>1</td><td>1</td><td>1</td><td>1</td><td>1</td><td>1</td><td>1</td><td>1</td><td>1</td><td>1</td><td>1</td><td>1</td><td>1</td><td>1</td><td>1</td><td>1</td><td>1</td><td>2</td><td>1</td><td>1</td><td>1</td><td>1</td><td>1</td><td>1</td><td>1</td><td>1</td><td>1</td><td>&hellip;</td><td>1</td><td>1</td><td>1</td><td>1</td><td>1</td><td>1</td><td>1</td><td>1</td><td>1</td><td>1</td><td>1</td><td>1</td><td>1</td><td>1</td><td>1</td><td>1</td><td>1</td><td>1</td><td>1</td><td>1</td><td>1</td><td>1</td><td>1</td><td>1</td><td>1</td><td>1</td><td>1</td><td>1</td><td>1</td><td>1</td><td>1</td><td>1</td><td>1</td><td>1</td><td>1</td><td>0.0</td><td>0.0</td></tr><tr><td>&quot;76561198096360…</td><td>1</td><td>1</td><td>1</td><td>1</td><td>1</td><td>1</td><td>1</td><td>1</td><td>1</td><td>1</td><td>1</td><td>1</td><td>1</td><td>1</td><td>1</td><td>1</td><td>1</td><td>1</td><td>1</td><td>1</td><td>1</td><td>1</td><td>1</td><td>1</td><td>1</td><td>1</td><td>1</td><td>1</td><td>1</td><td>1</td><td>1</td><td>1</td><td>1</td><td>1</td><td>1</td><td>1</td><td>&hellip;</td><td>1</td><td>1</td><td>1</td><td>1</td><td>1</td><td>1</td><td>1</td><td>1</td><td>1</td><td>1</td><td>1</td><td>1</td><td>1</td><td>1</td><td>1</td><td>1</td><td>1</td><td>1</td><td>1</td><td>1</td><td>1</td><td>1</td><td>1</td><td>1</td><td>1</td><td>1</td><td>1</td><td>1</td><td>1</td><td>1</td><td>1</td><td>1</td><td>1</td><td>1</td><td>1</td><td>0.0</td><td>0.0</td></tr><tr><td>&quot;76561198085015…</td><td>1</td><td>1</td><td>1</td><td>1</td><td>1</td><td>1</td><td>1</td><td>1</td><td>1</td><td>1</td><td>1</td><td>1</td><td>1</td><td>1</td><td>1</td><td>1</td><td>1</td><td>1</td><td>1</td><td>1</td><td>1</td><td>1</td><td>1</td><td>1</td><td>1</td><td>1</td><td>1</td><td>1</td><td>1</td><td>1</td><td>1</td><td>1</td><td>1</td><td>1</td><td>1</td><td>1</td><td>&hellip;</td><td>1</td><td>1</td><td>1</td><td>1</td><td>1</td><td>1</td><td>1</td><td>1</td><td>1</td><td>1</td><td>1</td><td>1</td><td>1</td><td>1</td><td>1</td><td>1</td><td>1</td><td>1</td><td>1</td><td>1</td><td>1</td><td>1</td><td>1</td><td>1</td><td>1</td><td>1</td><td>1</td><td>1</td><td>1</td><td>1</td><td>1</td><td>1</td><td>1</td><td>1</td><td>1</td><td>0.0</td><td>0.0</td></tr><tr><td>&quot;76561198038098…</td><td>1</td><td>1</td><td>1</td><td>1</td><td>1</td><td>1</td><td>1</td><td>1</td><td>1</td><td>1</td><td>1</td><td>1</td><td>1</td><td>1</td><td>1</td><td>1</td><td>1</td><td>1</td><td>1</td><td>1</td><td>1</td><td>1</td><td>1</td><td>1</td><td>1</td><td>1</td><td>1</td><td>1</td><td>1</td><td>1</td><td>1</td><td>1</td><td>1</td><td>1</td><td>1</td><td>1</td><td>&hellip;</td><td>1</td><td>1</td><td>1</td><td>1</td><td>1</td><td>1</td><td>1</td><td>1</td><td>1</td><td>1</td><td>1</td><td>1</td><td>1</td><td>1</td><td>1</td><td>1</td><td>1</td><td>1</td><td>1</td><td>1</td><td>1</td><td>1</td><td>1</td><td>1</td><td>1</td><td>1</td><td>1</td><td>1</td><td>1</td><td>1</td><td>1</td><td>1</td><td>1</td><td>1</td><td>1</td><td>0.0</td><td>0.0</td></tr></tbody></table></div>"
      ],
      "text/plain": [
       "shape: (5_354, 3_685)\n",
       "┌─────────────────┬──────┬───────┬───────┬───┬────────┬────────┬─────────────────┬─────────────────┐\n",
       "│ user_id         ┆ 1250 ┆ 22200 ┆ 43110 ┆ … ┆ 262850 ┆ 431510 ┆ total_playtime_ ┆ total_playtime_ │\n",
       "│ ---             ┆ ---  ┆ ---   ┆ ---   ┆   ┆ ---    ┆ ---    ┆ forever         ┆ 2weeks          │\n",
       "│ str             ┆ i32  ┆ i32   ┆ i32   ┆   ┆ i32    ┆ i32    ┆ ---             ┆ ---             │\n",
       "│                 ┆      ┆       ┆       ┆   ┆        ┆        ┆ f64             ┆ f64             │\n",
       "╞═════════════════╪══════╪═══════╪═══════╪═══╪════════╪════════╪═════════════════╪═════════════════╡\n",
       "│ Red_M           ┆ 1    ┆ 1     ┆ 1     ┆ … ┆ 1      ┆ 1      ┆ 0.0             ┆ 0.0             │\n",
       "│ 765611980888738 ┆ 1    ┆ 1     ┆ 1     ┆ … ┆ 1      ┆ 1      ┆ 0.0             ┆ 0.0             │\n",
       "│ 14              ┆      ┆       ┆       ┆   ┆        ┆        ┆                 ┆                 │\n",
       "│ 765611979909793 ┆ 1    ┆ 1     ┆ 1     ┆ … ┆ 1      ┆ 1      ┆ 0.0             ┆ 0.0             │\n",
       "│ 75              ┆      ┆       ┆       ┆   ┆        ┆        ┆                 ┆                 │\n",
       "│ 765611981398112 ┆ 1    ┆ 1     ┆ 1     ┆ … ┆ 1      ┆ 1      ┆ 0.0             ┆ 0.0             │\n",
       "│ 58              ┆      ┆       ┆       ┆   ┆        ┆        ┆                 ┆                 │\n",
       "│ 765611980752342 ┆ 1    ┆ 1     ┆ 1     ┆ … ┆ 1      ┆ 1      ┆ 0.0             ┆ 0.0             │\n",
       "│ 35              ┆      ┆       ┆       ┆   ┆        ┆        ┆                 ┆                 │\n",
       "│ …               ┆ …    ┆ …     ┆ …     ┆ … ┆ …      ┆ …      ┆ …               ┆ …               │\n",
       "│ ezratm14        ┆ 1    ┆ 1     ┆ 1     ┆ … ┆ 1      ┆ 1      ┆ 0.0             ┆ 0.0             │\n",
       "│ 765611980737843 ┆ 1    ┆ 1     ┆ 1     ┆ … ┆ 1      ┆ 1      ┆ 0.0             ┆ 0.0             │\n",
       "│ 30              ┆      ┆       ┆       ┆   ┆        ┆        ┆                 ┆                 │\n",
       "│ 765611980963606 ┆ 1    ┆ 1     ┆ 1     ┆ … ┆ 1      ┆ 1      ┆ 0.0             ┆ 0.0             │\n",
       "│ 02              ┆      ┆       ┆       ┆   ┆        ┆        ┆                 ┆                 │\n",
       "│ 765611980850150 ┆ 1    ┆ 1     ┆ 1     ┆ … ┆ 1      ┆ 1      ┆ 0.0             ┆ 0.0             │\n",
       "│ 81              ┆      ┆       ┆       ┆   ┆        ┆        ┆                 ┆                 │\n",
       "│ 765611980380986 ┆ 1    ┆ 1     ┆ 1     ┆ … ┆ 1      ┆ 1      ┆ 0.0             ┆ 0.0             │\n",
       "│ 65              ┆      ┆       ┆       ┆   ┆        ┆        ┆                 ┆                 │\n",
       "└─────────────────┴──────┴───────┴───────┴───┴────────┴────────┴─────────────────┴─────────────────┘"
      ]
     },
     "execution_count": 32,
     "metadata": {},
     "output_type": "execute_result"
    }
   ],
   "source": [
    "df_final.filter(df_final['total_playtime_forever'] == 0)"
   ]
  },
  {
   "cell_type": "code",
   "execution_count": 33,
   "metadata": {},
   "outputs": [
    {
     "data": {
      "text/html": [
       "<div><style>\n",
       ".dataframe > thead > tr,\n",
       ".dataframe > tbody > tr {\n",
       "  text-align: right;\n",
       "  white-space: pre-wrap;\n",
       "}\n",
       "</style>\n",
       "<small>shape: (1, 3_685)</small><table border=\"1\" class=\"dataframe\"><thead><tr><th>user_id</th><th>1250</th><th>22200</th><th>43110</th><th>251610</th><th>227300</th><th>239030</th><th>248820</th><th>370360</th><th>237930</th><th>263360</th><th>107200</th><th>224500</th><th>250320</th><th>20920</th><th>204100</th><th>224600</th><th>207610</th><th>108710</th><th>211420</th><th>211820</th><th>730</th><th>204300</th><th>249130</th><th>550</th><th>65800</th><th>220</th><th>72850</th><th>440</th><th>252950</th><th>304930</th><th>4000</th><th>42910</th><th>232090</th><th>570</th><th>218620</th><th>224260</th><th>&hellip;</th><th>225833</th><th>378660</th><th>242590</th><th>339910</th><th>61730</th><th>259410</th><th>318520</th><th>319970</th><th>378580</th><th>420930</th><th>349740</th><th>254130</th><th>274350</th><th>381020</th><th>358260</th><th>358340</th><th>358290</th><th>256500</th><th>431840</th><th>385890</th><th>203250</th><th>348670</th><th>385630</th><th>385980</th><th>369000</th><th>294230</th><th>367780</th><th>305920</th><th>306040</th><th>414390</th><th>307130</th><th>209120</th><th>220090</th><th>262850</th><th>431510</th><th>total_playtime_forever</th><th>total_playtime_2weeks</th></tr><tr><td>u32</td><td>u32</td><td>u32</td><td>u32</td><td>u32</td><td>u32</td><td>u32</td><td>u32</td><td>u32</td><td>u32</td><td>u32</td><td>u32</td><td>u32</td><td>u32</td><td>u32</td><td>u32</td><td>u32</td><td>u32</td><td>u32</td><td>u32</td><td>u32</td><td>u32</td><td>u32</td><td>u32</td><td>u32</td><td>u32</td><td>u32</td><td>u32</td><td>u32</td><td>u32</td><td>u32</td><td>u32</td><td>u32</td><td>u32</td><td>u32</td><td>u32</td><td>u32</td><td>&hellip;</td><td>u32</td><td>u32</td><td>u32</td><td>u32</td><td>u32</td><td>u32</td><td>u32</td><td>u32</td><td>u32</td><td>u32</td><td>u32</td><td>u32</td><td>u32</td><td>u32</td><td>u32</td><td>u32</td><td>u32</td><td>u32</td><td>u32</td><td>u32</td><td>u32</td><td>u32</td><td>u32</td><td>u32</td><td>u32</td><td>u32</td><td>u32</td><td>u32</td><td>u32</td><td>u32</td><td>u32</td><td>u32</td><td>u32</td><td>u32</td><td>u32</td><td>u32</td><td>u32</td></tr></thead><tbody><tr><td>0</td><td>0</td><td>0</td><td>0</td><td>0</td><td>0</td><td>0</td><td>0</td><td>0</td><td>0</td><td>0</td><td>0</td><td>0</td><td>0</td><td>0</td><td>0</td><td>0</td><td>0</td><td>0</td><td>0</td><td>0</td><td>0</td><td>0</td><td>0</td><td>0</td><td>0</td><td>0</td><td>0</td><td>0</td><td>0</td><td>0</td><td>0</td><td>0</td><td>0</td><td>0</td><td>0</td><td>0</td><td>&hellip;</td><td>0</td><td>0</td><td>0</td><td>0</td><td>0</td><td>0</td><td>0</td><td>0</td><td>0</td><td>0</td><td>0</td><td>0</td><td>0</td><td>0</td><td>0</td><td>0</td><td>0</td><td>0</td><td>0</td><td>0</td><td>0</td><td>0</td><td>0</td><td>0</td><td>0</td><td>0</td><td>0</td><td>0</td><td>0</td><td>0</td><td>0</td><td>0</td><td>0</td><td>0</td><td>0</td><td>0</td><td>0</td></tr></tbody></table></div>"
      ],
      "text/plain": [
       "shape: (1, 3_685)\n",
       "┌─────────┬──────┬───────┬───────┬───┬────────┬────────┬─────────────────────┬─────────────────────┐\n",
       "│ user_id ┆ 1250 ┆ 22200 ┆ 43110 ┆ … ┆ 262850 ┆ 431510 ┆ total_playtime_fore ┆ total_playtime_2wee │\n",
       "│ ---     ┆ ---  ┆ ---   ┆ ---   ┆   ┆ ---    ┆ ---    ┆ ver                 ┆ ks                  │\n",
       "│ u32     ┆ u32  ┆ u32   ┆ u32   ┆   ┆ u32    ┆ u32    ┆ ---                 ┆ ---                 │\n",
       "│         ┆      ┆       ┆       ┆   ┆        ┆        ┆ u32                 ┆ u32                 │\n",
       "╞═════════╪══════╪═══════╪═══════╪═══╪════════╪════════╪═════════════════════╪═════════════════════╡\n",
       "│ 0       ┆ 0    ┆ 0     ┆ 0     ┆ … ┆ 0      ┆ 0      ┆ 0                   ┆ 0                   │\n",
       "└─────────┴──────┴───────┴───────┴───┴────────┴────────┴─────────────────────┴─────────────────────┘"
      ]
     },
     "execution_count": 33,
     "metadata": {},
     "output_type": "execute_result"
    }
   ],
   "source": [
    "df_final.null_count()"
   ]
  },
  {
   "cell_type": "code",
   "execution_count": 34,
   "metadata": {},
   "outputs": [],
   "source": [
    "pl.DataFrame.write_parquet(df_final, 'users_item_features.parquet')"
   ]
  }
 ],
 "metadata": {
  "kernelspec": {
   "display_name": "Python 3",
   "language": "python",
   "name": "python3"
  },
  "language_info": {
   "codemirror_mode": {
    "name": "ipython",
    "version": 3
   },
   "file_extension": ".py",
   "mimetype": "text/x-python",
   "name": "python",
   "nbconvert_exporter": "python",
   "pygments_lexer": "ipython3",
   "version": "3.11.5"
  }
 },
 "nbformat": 4,
 "nbformat_minor": 2
}
