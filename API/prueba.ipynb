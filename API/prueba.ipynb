{
 "cells": [
  {
   "cell_type": "code",
   "execution_count": 31,
   "metadata": {},
   "outputs": [],
   "source": [
    "import pandas as pd \n",
    "def userdata(user_id: str):\n",
    "\n",
    "    if not isinstance(user_id, str):\n",
    "        return {'Mensaje': 'El argumento user_id debe ser una cadena de texto.'}\n",
    "\n",
    "    df_user = pd.read_parquet('../CleanData/users_items.parquet', columns=['user_id', 'item_id', 'items_count'])\n",
    "    df_user = df_user[df_user['user_id'].isin([user_id])]\n",
    "    if df_user.empty:\n",
    "        del df_user\n",
    "        return {'Mensaje': 'Usuario no encontrado. Por favor ingrese un usuario válido'}\n",
    "    \n",
    "    df_steam = pd.read_parquet('../CleanData/steam_games.parquet', columns= ['id', 'price'])\n",
    "\n",
    "    df = df_user.merge(df_steam, how='left', left_on= 'item_id', right_on= 'id')\n",
    "    del df_user\n",
    "    del df_steam\n",
    "\n",
    "    dinero = df['price'].sum()\n",
    "    cantidad_items = df['items_count'].max()\n",
    "\n",
    "    del df\n",
    "\n",
    "    df_reviews = pd.read_parquet('../CleanData/reviews.parquet', columns= ['user_id', 'recommend'])\n",
    "    df_reviews = df_reviews[df_reviews['user_id'].isin([user_id])]\n",
    "    recom = df_reviews['recommend'].sum()\n",
    "\n",
    "    del df_reviews\n",
    "    \n",
    "    resultado = {\n",
    "        'Usuario': user_id,\n",
    "        'Dinero gastado': str(dinero) + ' USD',\n",
    "        '% de recomendación': str(recom / cantidad_items) + ' %',\n",
    "        'Cantidad de Items': int(cantidad_items)\n",
    "    }\n",
    "\n",
    "    return resultado"
   ]
  },
  {
   "cell_type": "code",
   "execution_count": 32,
   "metadata": {},
   "outputs": [
    {
     "name": "stdout",
     "output_type": "stream",
     "text": [
      "df user\n",
      "          user_id  item_id  items_count\n",
      "16627  jonasdbomb       70          461\n",
      "16628  jonasdbomb     1200          461\n",
      "16629  jonasdbomb     1230          461\n",
      "16630  jonasdbomb     1280          461\n",
      "16631  jonasdbomb     3830          461\n",
      "df\n",
      "      user_id  item_id  items_count      id  price\n",
      "0  jonasdbomb       70          461    70.0   9.99\n",
      "1  jonasdbomb     1200          461  1200.0   9.99\n",
      "2  jonasdbomb     1230          461  1230.0   0.00\n",
      "3  jonasdbomb     1280          461  1280.0   0.00\n",
      "4  jonasdbomb     3830          461  3830.0   9.99\n",
      "df reviews\n",
      "      user_id  recommend\n",
      "0  jonasdbomb          1\n",
      "      user_id  items_count  price  recommend\n",
      "0  jonasdbomb          461   9.99          1\n",
      "1  jonasdbomb          461   9.99          1\n",
      "2  jonasdbomb          461   0.00          1\n",
      "3  jonasdbomb          461   0.00          1\n",
      "4  jonasdbomb          461   9.99          1\n",
      "      user_id  items_count   price  recommend\n",
      "0  jonasdbomb       212521  5352.1        461\n"
     ]
    },
    {
     "data": {
      "text/plain": [
       "{'Usuario': 'jonasdbomb',\n",
       " 'Dinero gastado': '5352.099999999999 USD',\n",
       " '% de recomendación': '0.0 %',\n",
       " 'Cantidad de Items': 212521}"
      ]
     },
     "execution_count": 32,
     "metadata": {},
     "output_type": "execute_result"
    }
   ],
   "source": [
    "userdata('jonasdbomb')"
   ]
  }
 ],
 "metadata": {
  "language_info": {
   "name": "python"
  }
 },
 "nbformat": 4,
 "nbformat_minor": 2
}
