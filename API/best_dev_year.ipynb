{
 "cells": [
  {
   "cell_type": "code",
   "execution_count": 1,
   "metadata": {},
   "outputs": [],
   "source": [
    "import pandas as pd"
   ]
  },
  {
   "cell_type": "code",
   "execution_count": 13,
   "metadata": {},
   "outputs": [
    {
     "data": {
      "text/html": [
       "<div>\n",
       "<style scoped>\n",
       "    .dataframe tbody tr th:only-of-type {\n",
       "        vertical-align: middle;\n",
       "    }\n",
       "\n",
       "    .dataframe tbody tr th {\n",
       "        vertical-align: top;\n",
       "    }\n",
       "\n",
       "    .dataframe thead th {\n",
       "        text-align: right;\n",
       "    }\n",
       "</style>\n",
       "<table border=\"1\" class=\"dataframe\">\n",
       "  <thead>\n",
       "    <tr style=\"text-align: right;\">\n",
       "      <th></th>\n",
       "      <th>Año</th>\n",
       "      <th>developer</th>\n",
       "      <th>rating</th>\n",
       "    </tr>\n",
       "  </thead>\n",
       "  <tbody>\n",
       "    <tr>\n",
       "      <th>0</th>\n",
       "      <td>2010</td>\n",
       "      <td>1C Company</td>\n",
       "      <td>2</td>\n",
       "    </tr>\n",
       "    <tr>\n",
       "      <th>1</th>\n",
       "      <td>2010</td>\n",
       "      <td>1C: Maddox Games</td>\n",
       "      <td>1</td>\n",
       "    </tr>\n",
       "    <tr>\n",
       "      <th>2</th>\n",
       "      <td>2010</td>\n",
       "      <td>Amanita Design</td>\n",
       "      <td>1</td>\n",
       "    </tr>\n",
       "    <tr>\n",
       "      <th>3</th>\n",
       "      <td>2010</td>\n",
       "      <td>BioWare</td>\n",
       "      <td>2</td>\n",
       "    </tr>\n",
       "    <tr>\n",
       "      <th>4</th>\n",
       "      <td>2010</td>\n",
       "      <td>BioWare,Aspyr (Mac)</td>\n",
       "      <td>2</td>\n",
       "    </tr>\n",
       "    <tr>\n",
       "      <th>...</th>\n",
       "      <td>...</td>\n",
       "      <td>...</td>\n",
       "      <td>...</td>\n",
       "    </tr>\n",
       "    <tr>\n",
       "      <th>3770</th>\n",
       "      <td>2015</td>\n",
       "      <td>webgames</td>\n",
       "      <td>1</td>\n",
       "    </tr>\n",
       "    <tr>\n",
       "      <th>3771</th>\n",
       "      <td>2015</td>\n",
       "      <td>xXarabongXx</td>\n",
       "      <td>1</td>\n",
       "    </tr>\n",
       "    <tr>\n",
       "      <th>3772</th>\n",
       "      <td>2015</td>\n",
       "      <td>△○□× (Miwashiba)</td>\n",
       "      <td>2</td>\n",
       "    </tr>\n",
       "    <tr>\n",
       "      <th>3773</th>\n",
       "      <td>2015</td>\n",
       "      <td>インレ,Inre</td>\n",
       "      <td>4</td>\n",
       "    </tr>\n",
       "    <tr>\n",
       "      <th>3774</th>\n",
       "      <td>2015</td>\n",
       "      <td>高考恋爱委员会,橘子班</td>\n",
       "      <td>4</td>\n",
       "    </tr>\n",
       "  </tbody>\n",
       "</table>\n",
       "<p>3775 rows × 3 columns</p>\n",
       "</div>"
      ],
      "text/plain": [
       "       Año            developer  rating\n",
       "0     2010           1C Company       2\n",
       "1     2010     1C: Maddox Games       1\n",
       "2     2010       Amanita Design       1\n",
       "3     2010              BioWare       2\n",
       "4     2010  BioWare,Aspyr (Mac)       2\n",
       "...    ...                  ...     ...\n",
       "3770  2015             webgames       1\n",
       "3771  2015          xXarabongXx       1\n",
       "3772  2015     △○□× (Miwashiba)       2\n",
       "3773  2015             インレ,Inre       4\n",
       "3774  2015          高考恋爱委员会,橘子班       4\n",
       "\n",
       "[3775 rows x 3 columns]"
      ]
     },
     "execution_count": 13,
     "metadata": {},
     "output_type": "execute_result"
    }
   ],
   "source": [
    "df_sent = pd.read_parquet('../sentiment_analysis_2.parquet', columns= ['item_id', 'sentiment_analysis_2', 'recommend', 'Año'])\n",
    "df_steam = pd.read_parquet('../CleanData/steam_games.parquet', columns= ['id', 'developer'])\n",
    "df = df_sent.merge(df_steam, how='left', left_on='item_id', right_on='id')\n",
    "df.drop(columns=['item_id', 'id'], inplace=True)\n",
    "df.dropna(inplace=True)\n",
    "df = df.groupby(['Año', 'developer']).agg({'sentiment_analysis_2': (lambda x: (x == 2).sum()), 'recommend': 'sum'})\n",
    "df['rating'] = df['sentiment_analysis_2'] + df['recommend']\n",
    "df.drop(columns=['sentiment_analysis_2', 'recommend'], inplace=True)\n",
    "df.reset_index(inplace=True)\n",
    "df.head()"
   ]
  },
  {
   "cell_type": "code",
   "execution_count": 14,
   "metadata": {},
   "outputs": [],
   "source": [
    "df.to_parquet('../CleanData/best_developer_year.parquet')"
   ]
  },
  {
   "cell_type": "code",
   "execution_count": 20,
   "metadata": {},
   "outputs": [],
   "source": [
    "def best_developer_year(anio: int):\n",
    "\n",
    "    try:\n",
    "        anio = int(anio)\n",
    "    except Exception as e:\n",
    "        return {f'Error {e}': 'Debe insertar un número entero.'}\n",
    "    \n",
    "    df = pd.read_parquet('../CleanData/best_developer_year.parquet')\n",
    "    anios = list(df['Año'].unique())\n",
    "    anios = [int(x) for x in anios]\n",
    "    \n",
    "    df = df[df['Año'].isin([anio])]\n",
    "    if len(df) == 0:\n",
    "        del df\n",
    "        return {'Mensaje': f'No hay registros del año {anio}',\n",
    "                'Los años disponibles son:': anios}\n",
    "\n",
    "    df = df.sort_values('rating', ascending=False).reset_index()\n",
    "    \n",
    "    result = {\n",
    "                'Puesto 1': df.loc[0, 'developer'],\n",
    "                'Puesto 2': df.loc[1, 'developer'],\n",
    "                'Puesto 3': df.loc[2, 'developer']\n",
    "            }\n",
    "    del df\n",
    "    return result"
   ]
  },
  {
   "cell_type": "code",
   "execution_count": 21,
   "metadata": {},
   "outputs": [
    {
     "data": {
      "text/plain": [
       "{'Mensaje': 'No hay registros del año 6447',\n",
       " 'Los años disponibles son:': [2010, 2011, 2012, 2013, 2014, 2015]}"
      ]
     },
     "execution_count": 21,
     "metadata": {},
     "output_type": "execute_result"
    }
   ],
   "source": [
    "best_developer_year(6447)"
   ]
  }
 ],
 "metadata": {
  "kernelspec": {
   "display_name": "Python 3",
   "language": "python",
   "name": "python3"
  },
  "language_info": {
   "codemirror_mode": {
    "name": "ipython",
    "version": 3
   },
   "file_extension": ".py",
   "mimetype": "text/x-python",
   "name": "python",
   "nbconvert_exporter": "python",
   "pygments_lexer": "ipython3",
   "version": "3.11.5"
  }
 },
 "nbformat": 4,
 "nbformat_minor": 2
}
